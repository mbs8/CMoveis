{
 "cells": [
  {
   "cell_type": "code",
   "execution_count": 149,
   "metadata": {},
   "outputs": [],
   "source": [
    "import sklearn\n",
    "import numpy as np\n",
    "import pandas as pd\n",
    "from matplotlib import pyplot as plt\n",
    "import seaborn as sns\n",
    "from PyRadioLoc.Utils.GeoUtils import GeoUtils"
   ]
  },
  {
   "cell_type": "code",
   "execution_count": 150,
   "metadata": {},
   "outputs": [],
   "source": [
    "def get_distance_array(y_pred, y_test):\n",
    "    dist = list()\n",
    "    for y_sample, y_pred in  zip(y_test, y_pred):\n",
    "        dist.append(GeoUtils.distanceInKm(y_sample[0], y_sample[1], y_pred[0], y_pred[1]))\n",
    "    return dist\n",
    "\n",
    "def get_quality_metrics(y_pred, y_test):\n",
    "    dist = get_distance_array(y_pred, y_test)\n",
    "    localization_error_min = min(dist)*1000\n",
    "    localization_error_max = max(dist)*1000\n",
    "    localization_error_mean = mean(dist)*1000\n",
    "    localization_error_standard_deviation = stdev(dist)*1000\n",
    "    print(\"min:            %0.2f m\" % localization_error_min)\n",
    "    print(\"max:            %0.2f m\" % localization_error_max)\n",
    "    print(\"mean:           %0.2f m\" % localization_error_mean)\n",
    "    print(\"std deviation:  %0.2f m\" % localization_error_standard_deviation)\n",
    "    \n",
    "def write_to_csv(y_pred, test_id, file_path):\n",
    "    y_pred_dataframe = pd.DataFrame(y_pred, columns=['lat', 'lon'])\n",
    "    y_pred_dataframe = pd.concat([y_pred_dataframe, test_id], axis=1)\n",
    "    y_pred_dataframe.to_csv(path_or_buf=file_path, index = False)"
   ]
  },
  {
   "cell_type": "code",
   "execution_count": 86,
   "metadata": {},
   "outputs": [
    {
     "data": {
      "text/html": [
       "<div>\n",
       "<style scoped>\n",
       "    .dataframe tbody tr th:only-of-type {\n",
       "        vertical-align: middle;\n",
       "    }\n",
       "\n",
       "    .dataframe tbody tr th {\n",
       "        vertical-align: top;\n",
       "    }\n",
       "\n",
       "    .dataframe thead th {\n",
       "        text-align: right;\n",
       "    }\n",
       "</style>\n",
       "<table border=\"1\" class=\"dataframe\">\n",
       "  <thead>\n",
       "    <tr style=\"text-align: right;\">\n",
       "      <th></th>\n",
       "      <th>lat</th>\n",
       "      <th>lon</th>\n",
       "      <th>rssi_1_1</th>\n",
       "      <th>rssi_1_2</th>\n",
       "      <th>rssi_1_3</th>\n",
       "      <th>rssi_2_1</th>\n",
       "      <th>rssi_2_2</th>\n",
       "      <th>rssi_2_3</th>\n",
       "      <th>rssi_3_1</th>\n",
       "      <th>rssi_3_2</th>\n",
       "      <th>rssi_3_3</th>\n",
       "      <th>delay_1</th>\n",
       "      <th>delay_2</th>\n",
       "      <th>delay_3</th>\n",
       "      <th>pontoId</th>\n",
       "    </tr>\n",
       "  </thead>\n",
       "  <tbody>\n",
       "    <tr>\n",
       "      <th>0</th>\n",
       "      <td>-8.05438</td>\n",
       "      <td>-34.95408</td>\n",
       "      <td>-89.044286</td>\n",
       "      <td>-96.667143</td>\n",
       "      <td>-91.320000</td>\n",
       "      <td>-96.106667</td>\n",
       "      <td>-94.480</td>\n",
       "      <td>-90.187143</td>\n",
       "      <td>-94.125000</td>\n",
       "      <td>-85.182</td>\n",
       "      <td>-96.4200</td>\n",
       "      <td>5</td>\n",
       "      <td>4</td>\n",
       "      <td>2</td>\n",
       "      <td>7531</td>\n",
       "    </tr>\n",
       "    <tr>\n",
       "      <th>1</th>\n",
       "      <td>-8.05337</td>\n",
       "      <td>-34.94889</td>\n",
       "      <td>-91.970000</td>\n",
       "      <td>-89.548571</td>\n",
       "      <td>-88.555714</td>\n",
       "      <td>-82.520000</td>\n",
       "      <td>-80.445</td>\n",
       "      <td>-89.910000</td>\n",
       "      <td>-88.916667</td>\n",
       "      <td>-91.602</td>\n",
       "      <td>-97.2550</td>\n",
       "      <td>5</td>\n",
       "      <td>2</td>\n",
       "      <td>4</td>\n",
       "      <td>7748</td>\n",
       "    </tr>\n",
       "    <tr>\n",
       "      <th>2</th>\n",
       "      <td>-8.05390</td>\n",
       "      <td>-34.95955</td>\n",
       "      <td>-85.255714</td>\n",
       "      <td>-99.635714</td>\n",
       "      <td>-86.551429</td>\n",
       "      <td>-94.520000</td>\n",
       "      <td>-100.225</td>\n",
       "      <td>-88.232857</td>\n",
       "      <td>-78.955000</td>\n",
       "      <td>-92.080</td>\n",
       "      <td>-66.4100</td>\n",
       "      <td>6</td>\n",
       "      <td>7</td>\n",
       "      <td>1</td>\n",
       "      <td>7636</td>\n",
       "    </tr>\n",
       "    <tr>\n",
       "      <th>3</th>\n",
       "      <td>-8.05561</td>\n",
       "      <td>-34.95431</td>\n",
       "      <td>-90.025714</td>\n",
       "      <td>-96.200000</td>\n",
       "      <td>-91.204286</td>\n",
       "      <td>-98.160000</td>\n",
       "      <td>-91.935</td>\n",
       "      <td>-92.671429</td>\n",
       "      <td>-78.636667</td>\n",
       "      <td>-68.340</td>\n",
       "      <td>-92.7800</td>\n",
       "      <td>6</td>\n",
       "      <td>5</td>\n",
       "      <td>2</td>\n",
       "      <td>7035</td>\n",
       "    </tr>\n",
       "    <tr>\n",
       "      <th>4</th>\n",
       "      <td>-8.05562</td>\n",
       "      <td>-34.95405</td>\n",
       "      <td>-94.525714</td>\n",
       "      <td>-96.200000</td>\n",
       "      <td>-93.830000</td>\n",
       "      <td>-98.216667</td>\n",
       "      <td>-94.670</td>\n",
       "      <td>-94.844286</td>\n",
       "      <td>-79.065000</td>\n",
       "      <td>-68.250</td>\n",
       "      <td>-96.2125</td>\n",
       "      <td>6</td>\n",
       "      <td>5</td>\n",
       "      <td>2</td>\n",
       "      <td>7026</td>\n",
       "    </tr>\n",
       "  </tbody>\n",
       "</table>\n",
       "</div>"
      ],
      "text/plain": [
       "       lat       lon   rssi_1_1   rssi_1_2   rssi_1_3   rssi_2_1  rssi_2_2  \\\n",
       "0 -8.05438 -34.95408 -89.044286 -96.667143 -91.320000 -96.106667   -94.480   \n",
       "1 -8.05337 -34.94889 -91.970000 -89.548571 -88.555714 -82.520000   -80.445   \n",
       "2 -8.05390 -34.95955 -85.255714 -99.635714 -86.551429 -94.520000  -100.225   \n",
       "3 -8.05561 -34.95431 -90.025714 -96.200000 -91.204286 -98.160000   -91.935   \n",
       "4 -8.05562 -34.95405 -94.525714 -96.200000 -93.830000 -98.216667   -94.670   \n",
       "\n",
       "    rssi_2_3   rssi_3_1  rssi_3_2  rssi_3_3  delay_1  delay_2  delay_3  \\\n",
       "0 -90.187143 -94.125000   -85.182  -96.4200        5        4        2   \n",
       "1 -89.910000 -88.916667   -91.602  -97.2550        5        2        4   \n",
       "2 -88.232857 -78.955000   -92.080  -66.4100        6        7        1   \n",
       "3 -92.671429 -78.636667   -68.340  -92.7800        6        5        2   \n",
       "4 -94.844286 -79.065000   -68.250  -96.2125        6        5        2   \n",
       "\n",
       "   pontoId  \n",
       "0     7531  \n",
       "1     7748  \n",
       "2     7636  \n",
       "3     7035  \n",
       "4     7026  "
      ]
     },
     "execution_count": 86,
     "metadata": {},
     "output_type": "execute_result"
    }
   ],
   "source": [
    "db_train = pd.read_csv(\"database/LocTreino.csv\")\n",
    "db_test = pd.read_csv(\"database/LocTeste.csv\")\n",
    "db_train.head()"
   ]
  },
  {
   "cell_type": "code",
   "execution_count": 91,
   "metadata": {},
   "outputs": [
    {
     "data": {
      "text/html": [
       "<div>\n",
       "<style scoped>\n",
       "    .dataframe tbody tr th:only-of-type {\n",
       "        vertical-align: middle;\n",
       "    }\n",
       "\n",
       "    .dataframe tbody tr th {\n",
       "        vertical-align: top;\n",
       "    }\n",
       "\n",
       "    .dataframe thead th {\n",
       "        text-align: right;\n",
       "    }\n",
       "</style>\n",
       "<table border=\"1\" class=\"dataframe\">\n",
       "  <thead>\n",
       "    <tr style=\"text-align: right;\">\n",
       "      <th></th>\n",
       "      <th>rssi_1_1</th>\n",
       "      <th>rssi_1_2</th>\n",
       "      <th>rssi_1_3</th>\n",
       "      <th>rssi_2_1</th>\n",
       "      <th>rssi_2_2</th>\n",
       "      <th>rssi_2_3</th>\n",
       "      <th>rssi_3_1</th>\n",
       "      <th>rssi_3_2</th>\n",
       "      <th>rssi_3_3</th>\n",
       "      <th>delay_1</th>\n",
       "      <th>delay_2</th>\n",
       "      <th>delay_3</th>\n",
       "    </tr>\n",
       "  </thead>\n",
       "  <tbody>\n",
       "    <tr>\n",
       "      <th>0</th>\n",
       "      <td>-89.044286</td>\n",
       "      <td>-96.667143</td>\n",
       "      <td>-91.320000</td>\n",
       "      <td>-96.106667</td>\n",
       "      <td>-94.480</td>\n",
       "      <td>-90.187143</td>\n",
       "      <td>-94.125000</td>\n",
       "      <td>-85.182</td>\n",
       "      <td>-96.4200</td>\n",
       "      <td>5</td>\n",
       "      <td>4</td>\n",
       "      <td>2</td>\n",
       "    </tr>\n",
       "    <tr>\n",
       "      <th>1</th>\n",
       "      <td>-91.970000</td>\n",
       "      <td>-89.548571</td>\n",
       "      <td>-88.555714</td>\n",
       "      <td>-82.520000</td>\n",
       "      <td>-80.445</td>\n",
       "      <td>-89.910000</td>\n",
       "      <td>-88.916667</td>\n",
       "      <td>-91.602</td>\n",
       "      <td>-97.2550</td>\n",
       "      <td>5</td>\n",
       "      <td>2</td>\n",
       "      <td>4</td>\n",
       "    </tr>\n",
       "    <tr>\n",
       "      <th>2</th>\n",
       "      <td>-85.255714</td>\n",
       "      <td>-99.635714</td>\n",
       "      <td>-86.551429</td>\n",
       "      <td>-94.520000</td>\n",
       "      <td>-100.225</td>\n",
       "      <td>-88.232857</td>\n",
       "      <td>-78.955000</td>\n",
       "      <td>-92.080</td>\n",
       "      <td>-66.4100</td>\n",
       "      <td>6</td>\n",
       "      <td>7</td>\n",
       "      <td>1</td>\n",
       "    </tr>\n",
       "    <tr>\n",
       "      <th>3</th>\n",
       "      <td>-90.025714</td>\n",
       "      <td>-96.200000</td>\n",
       "      <td>-91.204286</td>\n",
       "      <td>-98.160000</td>\n",
       "      <td>-91.935</td>\n",
       "      <td>-92.671429</td>\n",
       "      <td>-78.636667</td>\n",
       "      <td>-68.340</td>\n",
       "      <td>-92.7800</td>\n",
       "      <td>6</td>\n",
       "      <td>5</td>\n",
       "      <td>2</td>\n",
       "    </tr>\n",
       "    <tr>\n",
       "      <th>4</th>\n",
       "      <td>-94.525714</td>\n",
       "      <td>-96.200000</td>\n",
       "      <td>-93.830000</td>\n",
       "      <td>-98.216667</td>\n",
       "      <td>-94.670</td>\n",
       "      <td>-94.844286</td>\n",
       "      <td>-79.065000</td>\n",
       "      <td>-68.250</td>\n",
       "      <td>-96.2125</td>\n",
       "      <td>6</td>\n",
       "      <td>5</td>\n",
       "      <td>2</td>\n",
       "    </tr>\n",
       "  </tbody>\n",
       "</table>\n",
       "</div>"
      ],
      "text/plain": [
       "    rssi_1_1   rssi_1_2   rssi_1_3   rssi_2_1  rssi_2_2   rssi_2_3   rssi_3_1  \\\n",
       "0 -89.044286 -96.667143 -91.320000 -96.106667   -94.480 -90.187143 -94.125000   \n",
       "1 -91.970000 -89.548571 -88.555714 -82.520000   -80.445 -89.910000 -88.916667   \n",
       "2 -85.255714 -99.635714 -86.551429 -94.520000  -100.225 -88.232857 -78.955000   \n",
       "3 -90.025714 -96.200000 -91.204286 -98.160000   -91.935 -92.671429 -78.636667   \n",
       "4 -94.525714 -96.200000 -93.830000 -98.216667   -94.670 -94.844286 -79.065000   \n",
       "\n",
       "   rssi_3_2  rssi_3_3  delay_1  delay_2  delay_3  \n",
       "0   -85.182  -96.4200        5        4        2  \n",
       "1   -91.602  -97.2550        5        2        4  \n",
       "2   -92.080  -66.4100        6        7        1  \n",
       "3   -68.340  -92.7800        6        5        2  \n",
       "4   -68.250  -96.2125        6        5        2  "
      ]
     },
     "execution_count": 91,
     "metadata": {},
     "output_type": "execute_result"
    }
   ],
   "source": [
    "X_train = db_train.drop(\"lat\", axis = 1)\n",
    "X_train = X_train.drop(\"lon\", axis = 1)\n",
    "X_train = X_train.drop(\"pontoId\", axis = 1)\n",
    "X_test = db_test.drop(\"lat\", axis  = 1)\n",
    "X_test = X_test.drop(\"lon\", axis = 1)\n",
    "X_test = X_test.drop(\"pontoId\", axis = 1)\n",
    "X_train.head()"
   ]
  },
  {
   "cell_type": "code",
   "execution_count": 92,
   "metadata": {},
   "outputs": [
    {
     "data": {
      "text/plain": [
       "0   -8.05438\n",
       "1   -8.05337\n",
       "2   -8.05390\n",
       "3   -8.05561\n",
       "4   -8.05562\n",
       "Name: lat, dtype: float64"
      ]
     },
     "execution_count": 92,
     "metadata": {},
     "output_type": "execute_result"
    }
   ],
   "source": [
    "lat_train = db_train[\"lat\"]\n",
    "lat_test = db_test[\"lat\"]\n",
    "lat_train.head()"
   ]
  },
  {
   "cell_type": "code",
   "execution_count": 93,
   "metadata": {},
   "outputs": [
    {
     "data": {
      "text/plain": [
       "0   -34.95408\n",
       "1   -34.94889\n",
       "2   -34.95955\n",
       "3   -34.95431\n",
       "4   -34.95405\n",
       "Name: lon, dtype: float64"
      ]
     },
     "execution_count": 93,
     "metadata": {},
     "output_type": "execute_result"
    }
   ],
   "source": [
    "lon_train = db_train[\"lon\"]\n",
    "lon_test = db_test[\"lon\"]\n",
    "lon_train.head()"
   ]
  },
  {
   "cell_type": "code",
   "execution_count": 122,
   "metadata": {},
   "outputs": [
    {
     "data": {
      "text/html": [
       "<div>\n",
       "<style scoped>\n",
       "    .dataframe tbody tr th:only-of-type {\n",
       "        vertical-align: middle;\n",
       "    }\n",
       "\n",
       "    .dataframe tbody tr th {\n",
       "        vertical-align: top;\n",
       "    }\n",
       "\n",
       "    .dataframe thead th {\n",
       "        text-align: right;\n",
       "    }\n",
       "</style>\n",
       "<table border=\"1\" class=\"dataframe\">\n",
       "  <thead>\n",
       "    <tr style=\"text-align: right;\">\n",
       "      <th></th>\n",
       "      <th>lat</th>\n",
       "      <th>lon</th>\n",
       "      <th>pontoId</th>\n",
       "    </tr>\n",
       "  </thead>\n",
       "  <tbody>\n",
       "    <tr>\n",
       "      <th>0</th>\n",
       "      <td>-8.05847</td>\n",
       "      <td>-34.94977</td>\n",
       "      <td>6697.0</td>\n",
       "    </tr>\n",
       "    <tr>\n",
       "      <th>1</th>\n",
       "      <td>-8.05088</td>\n",
       "      <td>-34.95318</td>\n",
       "      <td>8593.0</td>\n",
       "    </tr>\n",
       "    <tr>\n",
       "      <th>2</th>\n",
       "      <td>-8.05446</td>\n",
       "      <td>-34.95612</td>\n",
       "      <td>7492.0</td>\n",
       "    </tr>\n",
       "    <tr>\n",
       "      <th>3</th>\n",
       "      <td>-8.05514</td>\n",
       "      <td>-34.94997</td>\n",
       "      <td>7360.0</td>\n",
       "    </tr>\n",
       "    <tr>\n",
       "      <th>4</th>\n",
       "      <td>-8.05143</td>\n",
       "      <td>-34.95325</td>\n",
       "      <td>8432.0</td>\n",
       "    </tr>\n",
       "  </tbody>\n",
       "</table>\n",
       "</div>"
      ],
      "text/plain": [
       "       lat       lon  pontoId\n",
       "0 -8.05847 -34.94977   6697.0\n",
       "1 -8.05088 -34.95318   8593.0\n",
       "2 -8.05446 -34.95612   7492.0\n",
       "3 -8.05514 -34.94997   7360.0\n",
       "4 -8.05143 -34.95325   8432.0"
      ]
     },
     "execution_count": 122,
     "metadata": {},
     "output_type": "execute_result"
    }
   ],
   "source": [
    "y_train = pd.concat([lat_train, lon_train], axis=1)\n",
    "y_test = pd.concat([lat_test, lon_test], axis=1)\n",
    "test_id = db_test[\"pontoId\"]\n",
    "y_ref = pd.concat([y_test, test_id], axis=1)\n",
    "y_ref.head()"
   ]
  },
  {
   "cell_type": "code",
   "execution_count": 131,
   "metadata": {},
   "outputs": [],
   "source": [
    "from sklearn.ensemble import RandomForestRegressor\n",
    "reg_cso = RandomForestRegressor(n_estimators = 120, random_state = 42)\n",
    "reg_cso.fit(X_train, y_train)\n",
    "y_pred_cso = reg_cso.predict(X_test)"
   ]
  },
  {
   "cell_type": "code",
   "execution_count": 153,
   "metadata": {},
   "outputs": [],
   "source": [
    "write_to_csv(y_pred_cso, test_id, \"mlp_pred.csv\")"
   ]
  },
  {
   "cell_type": "code",
   "execution_count": 133,
   "metadata": {},
   "outputs": [
    {
     "data": {
      "text/plain": [
       "[0.00018912108893137734,\n",
       " 7.533678097848492e-08,\n",
       " 0.00027447546516671563,\n",
       " 0.9941826451878646]"
      ]
     },
     "execution_count": 133,
     "metadata": {},
     "output_type": "execute_result"
    }
   ],
   "source": [
    "from sklearn.metrics import mean_absolute_error, mean_squared_error, r2_score\n",
    "results = [mean_absolute_error(y_test, y_pred_cso), mean_squared_error(y_test, y_pred_cso), np.sqrt(mean_squared_error(y_test, y_pred_cso)), r2_score(y_test, y_pred_cso)]\n",
    "results"
   ]
  },
  {
   "cell_type": "code",
   "execution_count": 152,
   "metadata": {},
   "outputs": [
    {
     "name": "stdout",
     "output_type": "stream",
     "text": [
      "min:            0.89 m\n",
      "max:            146.11 m\n",
      "mean:           33.49 m\n",
      "std deviation:  26.82 m\n"
     ]
    }
   ],
   "source": [
    "y_test_np = y_test.to_numpy()\n",
    "get_quality_metrics(y_test_np, y_pred_cso)    "
   ]
  },
  {
   "cell_type": "code",
   "execution_count": 99,
   "metadata": {},
   "outputs": [],
   "source": [
    "from sklearn import preprocessing\n",
    "scaler = preprocessing.RobustScaler().fit(X_train)\n",
    "X_train_scaled = scaler.transform(X_train)\n",
    "X_test_scaled  = scaler.transform(X_test)\n",
    "reg_cso_scaled = RandomForestRegressor(n_estimators = 120, random_state = 42)\n",
    "reg_cso_scaled.fit(X_train_scaled, y_train)\n",
    "y_pred_cso_scaled = reg_cso_scaled.predict(X_test_scaled)"
   ]
  },
  {
   "cell_type": "code",
   "execution_count": 148,
   "metadata": {},
   "outputs": [
    {
     "name": "stdout",
     "output_type": "stream",
     "text": [
      "min:            0.89 m\n",
      "max:            146.11 m\n",
      "mean:           33.42 m\n",
      "std deviation:  26.87 m\n"
     ]
    }
   ],
   "source": [
    "get_quality_metrics(y_test_np, y_pred_cso_scaled)"
   ]
  },
  {
   "cell_type": "code",
   "execution_count": 13,
   "metadata": {},
   "outputs": [
    {
     "data": {
      "text/plain": [
       "{'criterion': 'mae', 'n_estimators': 120}"
      ]
     },
     "execution_count": 13,
     "metadata": {},
     "output_type": "execute_result"
    }
   ],
   "source": [
    "from sklearn.model_selection import GridSearchCV\n",
    "parameters = {'n_estimators': list(range(120, 125)), 'criterion': [\"mse\", \"mae\"]}\n",
    "random_forest = RandomForestRegressor()\n",
    "\n",
    "grid = GridSearchCV(\n",
    "    random_forest,\n",
    "    parameters,\n",
    "    cv = 5,\n",
    "    scoring = 'neg_mean_squared_error',\n",
    "    return_train_score = True,\n",
    "    refit = True\n",
    ")\n",
    "grid.fit(X_train, y_train)\n",
    "grid.best_params_"
   ]
  },
  {
   "cell_type": "code",
   "execution_count": 74,
   "metadata": {},
   "outputs": [
    {
     "data": {
      "text/plain": [
       "{'activation': 'tanh', 'learning_rate': 'constant', 'solver': 'lbfgs'}"
      ]
     },
     "execution_count": 74,
     "metadata": {},
     "output_type": "execute_result"
    }
   ],
   "source": [
    "from sklearn.neural_network import MLPRegressor\n",
    "activation = [\"identity\", \"logistic\", \"tanh\", \"relu\"]\n",
    "solver = [\"lbfgs\"]\n",
    "learning_rate = [\"constant\", \"invscaling\", \"adaptive\"]\n",
    "\n",
    "parameters = {'activation' : activation, \"solver\" : solver, \"learning_rate\" : learning_rate}\n",
    "\n",
    "mlp_regressor = MLPRegressor()\n",
    "grid = GridSearchCV(\n",
    "    mlp_regressor,\n",
    "    parameters,\n",
    "    cv = 10,\n",
    "    scoring = 'neg_mean_squared_error',\n",
    "    return_train_score = True,\n",
    "    refit = True\n",
    ")\n",
    "grid.fit(X_train, y_train)\n",
    "grid.best_params_"
   ]
  },
  {
   "cell_type": "code",
   "execution_count": 140,
   "metadata": {},
   "outputs": [],
   "source": [
    "mlp = MLPRegressor(activation ='tanh', learning_rate = 'constant', solver = 'lbfgs')\n",
    "mlp.fit(X_train, y_train)\n",
    "y_pred_mlp = mlp.predict(X_test)"
   ]
  },
  {
   "cell_type": "code",
   "execution_count": 144,
   "metadata": {},
   "outputs": [
    {
     "name": "stdout",
     "output_type": "stream",
     "text": [
      "min:            104.81 m\n",
      "max:            1060.43 m\n",
      "mean:           517.08 m\n",
      "std deviation:  225.35 m\n"
     ]
    }
   ],
   "source": [
    "get_quality_metrics(y_pred_mlp, y_test_np)"
   ]
  },
  {
   "cell_type": "code",
   "execution_count": 147,
   "metadata": {},
   "outputs": [],
   "source": [
    "write_to_csv(y_pred_mlp, test_id, \"mlp_pred.csv\")"
   ]
  },
  {
   "cell_type": "code",
   "execution_count": null,
   "metadata": {},
   "outputs": [],
   "source": []
  }
 ],
 "metadata": {
  "kernelspec": {
   "display_name": "Python 3",
   "language": "python",
   "name": "python3"
  },
  "language_info": {
   "codemirror_mode": {
    "name": "ipython",
    "version": 3
   },
   "file_extension": ".py",
   "mimetype": "text/x-python",
   "name": "python",
   "nbconvert_exporter": "python",
   "pygments_lexer": "ipython3",
   "version": "3.8.0"
  }
 },
 "nbformat": 4,
 "nbformat_minor": 2
}
