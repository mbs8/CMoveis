{
 "cells": [
  {
   "cell_type": "code",
   "execution_count": 39,
   "metadata": {},
   "outputs": [],
   "source": [
    "import sklearn\n",
    "import numpy as np\n",
    "import pandas as pd\n",
    "from matplotlib import pyplot as plt\n",
    "import seaborn as sns\n",
    "from PyRadioLoc.Utils.GeoUtils import GeoUtils"
   ]
  },
  {
   "cell_type": "code",
   "execution_count": 40,
   "metadata": {},
   "outputs": [],
   "source": [
    "def get_distance_array(y_pred, y_test):\n",
    "    dist = list()\n",
    "    for y_sample, y_pred in  zip(y_test, y_pred):\n",
    "        dist.append(GeoUtils.distanceInKm(y_sample[0], y_sample[1], y_pred[0], y_pred[1]))\n",
    "    return dist\n",
    "\n",
    "def get_quality_metrics(y_pred, y_test):\n",
    "    dist = get_distance_array(y_pred, y_test)\n",
    "    localization_error_min = min(dist)*1000\n",
    "    localization_error_max = max(dist)*1000\n",
    "    localization_error_mean = np.mean(dist)*1000\n",
    "    localization_error_standard_deviation = np.std(dist)*1000\n",
    "    print(\"min:            %0.2f m\" % localization_error_min)\n",
    "    print(\"max:            %0.2f m\" % localization_error_max)\n",
    "    print(\"mean:           %0.2f m\" % localization_error_mean)\n",
    "    print(\"std deviation:  %0.2f m\" % localization_error_standard_deviation)\n",
    "    \n",
    "def write_to_csv(y_pred, test_id, file_path):\n",
    "    y_pred_dataframe = pd.DataFrame(y_pred, columns=['lat', 'lon'])\n",
    "    y_pred_dataframe = pd.concat([y_pred_dataframe, test_id], axis=1)\n",
    "    y_pred_dataframe.to_csv(path_or_buf=file_path, index = False)"
   ]
  },
  {
   "cell_type": "code",
   "execution_count": 42,
   "metadata": {},
   "outputs": [
    {
     "data": {
      "text/html": [
       "<div>\n",
       "<style scoped>\n",
       "    .dataframe tbody tr th:only-of-type {\n",
       "        vertical-align: middle;\n",
       "    }\n",
       "\n",
       "    .dataframe tbody tr th {\n",
       "        vertical-align: top;\n",
       "    }\n",
       "\n",
       "    .dataframe thead th {\n",
       "        text-align: right;\n",
       "    }\n",
       "</style>\n",
       "<table border=\"1\" class=\"dataframe\">\n",
       "  <thead>\n",
       "    <tr style=\"text-align: right;\">\n",
       "      <th></th>\n",
       "      <th>lat</th>\n",
       "      <th>lon</th>\n",
       "      <th>rssi_1_1</th>\n",
       "      <th>rssi_1_2</th>\n",
       "      <th>rssi_1_3</th>\n",
       "      <th>rssi_2_1</th>\n",
       "      <th>rssi_2_2</th>\n",
       "      <th>rssi_2_3</th>\n",
       "      <th>rssi_3_1</th>\n",
       "      <th>rssi_3_2</th>\n",
       "      <th>rssi_3_3</th>\n",
       "      <th>delay_1</th>\n",
       "      <th>delay_2</th>\n",
       "      <th>delay_3</th>\n",
       "      <th>pontoId</th>\n",
       "    </tr>\n",
       "  </thead>\n",
       "  <tbody>\n",
       "    <tr>\n",
       "      <th>0</th>\n",
       "      <td>-8.05438</td>\n",
       "      <td>-34.95408</td>\n",
       "      <td>-89.044286</td>\n",
       "      <td>-96.667143</td>\n",
       "      <td>-91.320000</td>\n",
       "      <td>-96.106667</td>\n",
       "      <td>-94.48000</td>\n",
       "      <td>-90.187143</td>\n",
       "      <td>-94.125000</td>\n",
       "      <td>-85.182000</td>\n",
       "      <td>-96.420000</td>\n",
       "      <td>5</td>\n",
       "      <td>4</td>\n",
       "      <td>2</td>\n",
       "      <td>7531</td>\n",
       "    </tr>\n",
       "    <tr>\n",
       "      <th>1</th>\n",
       "      <td>-8.05337</td>\n",
       "      <td>-34.94889</td>\n",
       "      <td>-91.970000</td>\n",
       "      <td>-89.548571</td>\n",
       "      <td>-88.555714</td>\n",
       "      <td>-82.520000</td>\n",
       "      <td>-80.44500</td>\n",
       "      <td>-89.910000</td>\n",
       "      <td>-88.916667</td>\n",
       "      <td>-91.602000</td>\n",
       "      <td>-97.255000</td>\n",
       "      <td>5</td>\n",
       "      <td>2</td>\n",
       "      <td>4</td>\n",
       "      <td>7748</td>\n",
       "    </tr>\n",
       "    <tr>\n",
       "      <th>2</th>\n",
       "      <td>-8.05561</td>\n",
       "      <td>-34.95431</td>\n",
       "      <td>-90.025714</td>\n",
       "      <td>-96.200000</td>\n",
       "      <td>-91.204286</td>\n",
       "      <td>-98.160000</td>\n",
       "      <td>-91.93500</td>\n",
       "      <td>-92.671429</td>\n",
       "      <td>-78.636667</td>\n",
       "      <td>-68.340000</td>\n",
       "      <td>-92.780000</td>\n",
       "      <td>6</td>\n",
       "      <td>5</td>\n",
       "      <td>2</td>\n",
       "      <td>7035</td>\n",
       "    </tr>\n",
       "    <tr>\n",
       "      <th>3</th>\n",
       "      <td>-8.05562</td>\n",
       "      <td>-34.95405</td>\n",
       "      <td>-94.525714</td>\n",
       "      <td>-96.200000</td>\n",
       "      <td>-93.830000</td>\n",
       "      <td>-98.216667</td>\n",
       "      <td>-94.67000</td>\n",
       "      <td>-94.844286</td>\n",
       "      <td>-79.065000</td>\n",
       "      <td>-68.250000</td>\n",
       "      <td>-96.212500</td>\n",
       "      <td>6</td>\n",
       "      <td>5</td>\n",
       "      <td>2</td>\n",
       "      <td>7026</td>\n",
       "    </tr>\n",
       "    <tr>\n",
       "      <th>4</th>\n",
       "      <td>-8.05007</td>\n",
       "      <td>-34.95474</td>\n",
       "      <td>-82.999429</td>\n",
       "      <td>-98.255357</td>\n",
       "      <td>-87.818571</td>\n",
       "      <td>-101.535000</td>\n",
       "      <td>-97.59125</td>\n",
       "      <td>-90.656905</td>\n",
       "      <td>-80.617222</td>\n",
       "      <td>-99.934667</td>\n",
       "      <td>-96.982778</td>\n",
       "      <td>3</td>\n",
       "      <td>5</td>\n",
       "      <td>3</td>\n",
       "      <td>8797</td>\n",
       "    </tr>\n",
       "  </tbody>\n",
       "</table>\n",
       "</div>"
      ],
      "text/plain": [
       "       lat       lon   rssi_1_1   rssi_1_2   rssi_1_3    rssi_2_1  rssi_2_2  \\\n",
       "0 -8.05438 -34.95408 -89.044286 -96.667143 -91.320000  -96.106667 -94.48000   \n",
       "1 -8.05337 -34.94889 -91.970000 -89.548571 -88.555714  -82.520000 -80.44500   \n",
       "2 -8.05561 -34.95431 -90.025714 -96.200000 -91.204286  -98.160000 -91.93500   \n",
       "3 -8.05562 -34.95405 -94.525714 -96.200000 -93.830000  -98.216667 -94.67000   \n",
       "4 -8.05007 -34.95474 -82.999429 -98.255357 -87.818571 -101.535000 -97.59125   \n",
       "\n",
       "    rssi_2_3   rssi_3_1   rssi_3_2   rssi_3_3  delay_1  delay_2  delay_3  \\\n",
       "0 -90.187143 -94.125000 -85.182000 -96.420000        5        4        2   \n",
       "1 -89.910000 -88.916667 -91.602000 -97.255000        5        2        4   \n",
       "2 -92.671429 -78.636667 -68.340000 -92.780000        6        5        2   \n",
       "3 -94.844286 -79.065000 -68.250000 -96.212500        6        5        2   \n",
       "4 -90.656905 -80.617222 -99.934667 -96.982778        3        5        3   \n",
       "\n",
       "   pontoId  \n",
       "0     7531  \n",
       "1     7748  \n",
       "2     7035  \n",
       "3     7026  \n",
       "4     8797  "
      ]
     },
     "execution_count": 42,
     "metadata": {},
     "output_type": "execute_result"
    }
   ],
   "source": [
    "db_train = pd.read_csv(\"database/LocTreino.csv\")\n",
    "db_test = pd.read_csv(\"database/test.csv\")\n",
    "db_train.head()"
   ]
  },
  {
   "cell_type": "code",
   "execution_count": 43,
   "metadata": {},
   "outputs": [
    {
     "data": {
      "text/html": [
       "<div>\n",
       "<style scoped>\n",
       "    .dataframe tbody tr th:only-of-type {\n",
       "        vertical-align: middle;\n",
       "    }\n",
       "\n",
       "    .dataframe tbody tr th {\n",
       "        vertical-align: top;\n",
       "    }\n",
       "\n",
       "    .dataframe thead th {\n",
       "        text-align: right;\n",
       "    }\n",
       "</style>\n",
       "<table border=\"1\" class=\"dataframe\">\n",
       "  <thead>\n",
       "    <tr style=\"text-align: right;\">\n",
       "      <th></th>\n",
       "      <th>rssi_1_1</th>\n",
       "      <th>rssi_1_2</th>\n",
       "      <th>rssi_1_3</th>\n",
       "      <th>rssi_2_1</th>\n",
       "      <th>rssi_2_2</th>\n",
       "      <th>rssi_2_3</th>\n",
       "      <th>rssi_3_1</th>\n",
       "      <th>rssi_3_2</th>\n",
       "      <th>rssi_3_3</th>\n",
       "      <th>delay_1</th>\n",
       "      <th>delay_2</th>\n",
       "      <th>delay_3</th>\n",
       "    </tr>\n",
       "  </thead>\n",
       "  <tbody>\n",
       "    <tr>\n",
       "      <th>0</th>\n",
       "      <td>-103.705000</td>\n",
       "      <td>-110.425</td>\n",
       "      <td>-107.381667</td>\n",
       "      <td>-110.33</td>\n",
       "      <td>-93.800</td>\n",
       "      <td>-99.03</td>\n",
       "      <td>-98.33</td>\n",
       "      <td>-99.005000</td>\n",
       "      <td>-115.00</td>\n",
       "      <td>6</td>\n",
       "      <td>3</td>\n",
       "      <td>3</td>\n",
       "    </tr>\n",
       "    <tr>\n",
       "      <th>1</th>\n",
       "      <td>-102.610000</td>\n",
       "      <td>-115.000</td>\n",
       "      <td>-101.380000</td>\n",
       "      <td>-115.00</td>\n",
       "      <td>-104.295</td>\n",
       "      <td>-97.36</td>\n",
       "      <td>-96.98</td>\n",
       "      <td>-99.572500</td>\n",
       "      <td>-115.00</td>\n",
       "      <td>6</td>\n",
       "      <td>4</td>\n",
       "      <td>3</td>\n",
       "    </tr>\n",
       "    <tr>\n",
       "      <th>2</th>\n",
       "      <td>-105.225000</td>\n",
       "      <td>-115.000</td>\n",
       "      <td>-105.210000</td>\n",
       "      <td>-115.00</td>\n",
       "      <td>-105.835</td>\n",
       "      <td>-115.00</td>\n",
       "      <td>-86.00</td>\n",
       "      <td>-86.784286</td>\n",
       "      <td>-108.12</td>\n",
       "      <td>6</td>\n",
       "      <td>4</td>\n",
       "      <td>3</td>\n",
       "    </tr>\n",
       "    <tr>\n",
       "      <th>3</th>\n",
       "      <td>-103.436667</td>\n",
       "      <td>-115.000</td>\n",
       "      <td>-99.750000</td>\n",
       "      <td>-115.00</td>\n",
       "      <td>-102.805</td>\n",
       "      <td>-99.50</td>\n",
       "      <td>-100.31</td>\n",
       "      <td>-99.320000</td>\n",
       "      <td>-115.00</td>\n",
       "      <td>6</td>\n",
       "      <td>4</td>\n",
       "      <td>3</td>\n",
       "    </tr>\n",
       "    <tr>\n",
       "      <th>4</th>\n",
       "      <td>-101.196667</td>\n",
       "      <td>-115.000</td>\n",
       "      <td>-96.040000</td>\n",
       "      <td>-115.00</td>\n",
       "      <td>-96.790</td>\n",
       "      <td>-96.10</td>\n",
       "      <td>-94.42</td>\n",
       "      <td>-91.327500</td>\n",
       "      <td>-115.00</td>\n",
       "      <td>6</td>\n",
       "      <td>4</td>\n",
       "      <td>3</td>\n",
       "    </tr>\n",
       "  </tbody>\n",
       "</table>\n",
       "</div>"
      ],
      "text/plain": [
       "     rssi_1_1  rssi_1_2    rssi_1_3  rssi_2_1  rssi_2_2  rssi_2_3  rssi_3_1  \\\n",
       "0 -103.705000  -110.425 -107.381667   -110.33   -93.800    -99.03    -98.33   \n",
       "1 -102.610000  -115.000 -101.380000   -115.00  -104.295    -97.36    -96.98   \n",
       "2 -105.225000  -115.000 -105.210000   -115.00  -105.835   -115.00    -86.00   \n",
       "3 -103.436667  -115.000  -99.750000   -115.00  -102.805    -99.50   -100.31   \n",
       "4 -101.196667  -115.000  -96.040000   -115.00   -96.790    -96.10    -94.42   \n",
       "\n",
       "    rssi_3_2  rssi_3_3  delay_1  delay_2  delay_3  \n",
       "0 -99.005000   -115.00        6        3        3  \n",
       "1 -99.572500   -115.00        6        4        3  \n",
       "2 -86.784286   -108.12        6        4        3  \n",
       "3 -99.320000   -115.00        6        4        3  \n",
       "4 -91.327500   -115.00        6        4        3  "
      ]
     },
     "execution_count": 43,
     "metadata": {},
     "output_type": "execute_result"
    }
   ],
   "source": [
    "X_train = db_train.drop(\"lat\", axis = 1)\n",
    "X_train = X_train.drop(\"lon\", axis = 1)\n",
    "X_train = X_train.drop(\"pontoId\", axis = 1)\n",
    "#X_test = db_test.drop(\"lat\", axis  = 1)\n",
    "#X_test = X_test.drop(\"lon\", axis = 1)\n",
    "#X_test = X_test.drop(\"pontoId\", axis = 1)\n",
    "X_test = db_test.drop(\"pontoId\", axis=1)\n",
    "#X_train.head()\n",
    "X_test.head()"
   ]
  },
  {
   "cell_type": "code",
   "execution_count": 45,
   "metadata": {},
   "outputs": [
    {
     "data": {
      "text/plain": [
       "0   -8.05438\n",
       "1   -8.05337\n",
       "2   -8.05561\n",
       "3   -8.05562\n",
       "4   -8.05007\n",
       "Name: lat, dtype: float64"
      ]
     },
     "execution_count": 45,
     "metadata": {},
     "output_type": "execute_result"
    }
   ],
   "source": [
    "lat_train = db_train[\"lat\"]\n",
    "#lat_test = db_test[\"lat\"]\n",
    "lat_train.head()"
   ]
  },
  {
   "cell_type": "code",
   "execution_count": 46,
   "metadata": {},
   "outputs": [
    {
     "data": {
      "text/plain": [
       "0   -34.95408\n",
       "1   -34.94889\n",
       "2   -34.95431\n",
       "3   -34.95405\n",
       "4   -34.95474\n",
       "Name: lon, dtype: float64"
      ]
     },
     "execution_count": 46,
     "metadata": {},
     "output_type": "execute_result"
    }
   ],
   "source": [
    "lon_train = db_train[\"lon\"]\n",
    "#lon_test = db_test[\"lon\"]\n",
    "lon_train.head()"
   ]
  },
  {
   "cell_type": "code",
   "execution_count": 47,
   "metadata": {},
   "outputs": [],
   "source": [
    "y_train = pd.concat([lat_train, lon_train], axis=1)\n",
    "#y_test = pd.concat([lat_test, lon_test], axis=1)\n",
    "test_id = db_test[\"pontoId\"]\n",
    "#y_ref = pd.concat([y_test, test_id], axis=1)\n",
    "#y_ref.head()"
   ]
  },
  {
   "cell_type": "code",
   "execution_count": 48,
   "metadata": {},
   "outputs": [],
   "source": [
    "from sklearn.ensemble import RandomForestRegressor\n",
    "reg_cso = RandomForestRegressor(n_estimators = 120, random_state = 42)\n",
    "reg_cso.fit(X_train, y_train)\n",
    "y_pred_cso = reg_cso.predict(X_test)"
   ]
  },
  {
   "cell_type": "code",
   "execution_count": 49,
   "metadata": {},
   "outputs": [],
   "source": [
    "write_to_csv(y_pred_cso, test_id, \"./finalResult/Resultados_Equipe4_Metodo_4.csv\")"
   ]
  },
  {
   "cell_type": "code",
   "execution_count": 36,
   "metadata": {},
   "outputs": [
    {
     "data": {
      "text/plain": [
       "[0.00020511156260101987,\n",
       " 1.1177266859978454e-07,\n",
       " 0.00033432419685057874,\n",
       " 0.9890148572631754]"
      ]
     },
     "execution_count": 36,
     "metadata": {},
     "output_type": "execute_result"
    }
   ],
   "source": [
    "from sklearn.metrics import mean_absolute_error, mean_squared_error, r2_score\n",
    "results = [mean_absolute_error(y_test, y_pred_cso), mean_squared_error(y_test, y_pred_cso), np.sqrt(mean_squared_error(y_test, y_pred_cso)), r2_score(y_test, y_pred_cso)]\n",
    "results"
   ]
  },
  {
   "cell_type": "code",
   "execution_count": 37,
   "metadata": {},
   "outputs": [
    {
     "name": "stdout",
     "output_type": "stream",
     "text": [
      "min:            1.16 m\n",
      "max:            393.16 m\n",
      "mean:           36.09 m\n",
      "std deviation:  37.78 m\n"
     ]
    }
   ],
   "source": [
    "y_test_np = y_test.to_numpy()\n",
    "get_quality_metrics(y_test_np, y_pred_cso)    "
   ]
  },
  {
   "cell_type": "code",
   "execution_count": 99,
   "metadata": {},
   "outputs": [],
   "source": [
    "from sklearn import preprocessing\n",
    "scaler = preprocessing.RobustScaler().fit(X_train)\n",
    "X_train_scaled = scaler.transform(X_train)\n",
    "X_test_scaled  = scaler.transform(X_test)\n",
    "reg_cso_scaled = RandomForestRegressor(n_estimators = 120, random_state = 42)\n",
    "reg_cso_scaled.fit(X_train_scaled, y_train)\n",
    "y_pred_cso_scaled = reg_cso_scaled.predict(X_test_scaled)"
   ]
  },
  {
   "cell_type": "code",
   "execution_count": 148,
   "metadata": {},
   "outputs": [
    {
     "name": "stdout",
     "output_type": "stream",
     "text": [
      "min:            0.89 m\n",
      "max:            146.11 m\n",
      "mean:           33.42 m\n",
      "std deviation:  26.87 m\n"
     ]
    }
   ],
   "source": [
    "get_quality_metrics(y_test_np, y_pred_cso_scaled)"
   ]
  },
  {
   "cell_type": "code",
   "execution_count": 13,
   "metadata": {},
   "outputs": [
    {
     "data": {
      "text/plain": [
       "{'criterion': 'mae', 'n_estimators': 120}"
      ]
     },
     "execution_count": 13,
     "metadata": {},
     "output_type": "execute_result"
    }
   ],
   "source": [
    "from sklearn.model_selection import GridSearchCV\n",
    "parameters = {'n_estimators': list(range(120, 125)), 'criterion': [\"mse\", \"mae\"]}\n",
    "random_forest = RandomForestRegressor()\n",
    "\n",
    "grid = GridSearchCV(\n",
    "    random_forest,\n",
    "    parameters,\n",
    "    cv = 5,\n",
    "    scoring = 'neg_mean_squared_error',\n",
    "    return_train_score = True,\n",
    "    refit = True\n",
    ")\n",
    "grid.fit(X_train, y_train)\n",
    "grid.best_params_"
   ]
  },
  {
   "cell_type": "code",
   "execution_count": 74,
   "metadata": {},
   "outputs": [
    {
     "data": {
      "text/plain": [
       "{'activation': 'tanh', 'learning_rate': 'constant', 'solver': 'lbfgs'}"
      ]
     },
     "execution_count": 74,
     "metadata": {},
     "output_type": "execute_result"
    }
   ],
   "source": [
    "from sklearn.neural_network import MLPRegressor\n",
    "activation = [\"identity\", \"logistic\", \"tanh\", \"relu\"]\n",
    "solver = [\"lbfgs\"]\n",
    "learning_rate = [\"constant\", \"invscaling\", \"adaptive\"]\n",
    "\n",
    "parameters = {'activation' : activation, \"solver\" : solver, \"learning_rate\" : learning_rate}\n",
    "\n",
    "mlp_regressor = MLPRegressor()\n",
    "grid = GridSearchCV(\n",
    "    mlp_regressor,\n",
    "    parameters,\n",
    "    cv = 10,\n",
    "    scoring = 'neg_mean_squared_error',\n",
    "    return_train_score = True,\n",
    "    refit = True\n",
    ")\n",
    "grid.fit(X_train, y_train)\n",
    "grid.best_params_"
   ]
  },
  {
   "cell_type": "code",
   "execution_count": 140,
   "metadata": {},
   "outputs": [],
   "source": [
    "mlp = MLPRegressor(activation ='tanh', learning_rate = 'constant', solver = 'lbfgs')\n",
    "mlp.fit(X_train, y_train)\n",
    "y_pred_mlp = mlp.predict(X_test)"
   ]
  },
  {
   "cell_type": "code",
   "execution_count": 144,
   "metadata": {},
   "outputs": [
    {
     "name": "stdout",
     "output_type": "stream",
     "text": [
      "min:            104.81 m\n",
      "max:            1060.43 m\n",
      "mean:           517.08 m\n",
      "std deviation:  225.35 m\n"
     ]
    }
   ],
   "source": [
    "get_quality_metrics(y_pred_mlp, y_test_np)"
   ]
  },
  {
   "cell_type": "code",
   "execution_count": 147,
   "metadata": {},
   "outputs": [],
   "source": [
    "write_to_csv(y_pred_mlp, test_id, \"mlp_pred.csv\")"
   ]
  },
  {
   "cell_type": "code",
   "execution_count": null,
   "metadata": {},
   "outputs": [],
   "source": []
  }
 ],
 "metadata": {
  "kernelspec": {
   "display_name": "Python 3",
   "language": "python",
   "name": "python3"
  },
  "language_info": {
   "codemirror_mode": {
    "name": "ipython",
    "version": 3
   },
   "file_extension": ".py",
   "mimetype": "text/x-python",
   "name": "python",
   "nbconvert_exporter": "python",
   "pygments_lexer": "ipython3",
   "version": "3.7.4"
  }
 },
 "nbformat": 4,
 "nbformat_minor": 2
}
