{
 "cells": [
  {
   "cell_type": "code",
   "execution_count": 40,
   "metadata": {},
   "outputs": [],
   "source": [
    "import sklearn\n",
    "import numpy as np\n",
    "import pandas as pd\n",
    "from matplotlib import pyplot as plt\n",
    "import seaborn as sns\n",
    "from PyRadioLoc.Utils.GeoUtils import GeoUtils\n",
    "%run utils.ipynb"
   ]
  },
  {
   "cell_type": "code",
   "execution_count": 41,
   "metadata": {},
   "outputs": [],
   "source": [
    "def get_distance_array(y_pred, y_test):\n",
    "    dist = list()\n",
    "    for y_sample, y_pred in  zip(y_test, y_pred):\n",
    "        dist.append(GeoUtils.distanceInKm(y_sample[0], y_sample[1], y_pred[0], y_pred[1]))\n",
    "    return dist"
   ]
  },
  {
   "cell_type": "code",
   "execution_count": 42,
   "metadata": {},
   "outputs": [],
   "source": [
    "def get_quality_metrics(y_pred, y_test):\n",
    "    dist = get_distance_array(y_pred, y_test)\n",
    "    localization_error_min = min(dist)*1000\n",
    "    localization_error_max = max(dist)*1000\n",
    "    localization_error_mean = np.mean(dist)*1000\n",
    "    localization_error_standard_deviation = np.std(dist)*1000\n",
    "    print(\"min:            %0.2f m\" % localization_error_min)\n",
    "    print(\"max:            %0.2f m\" % localization_error_max)\n",
    "    print(\"mean:           %0.2f m\" % localization_error_mean)\n",
    "    print(\"std deviation:  %0.2f m\" % localization_error_standard_deviation)"
   ]
  },
  {
   "cell_type": "code",
   "execution_count": 43,
   "metadata": {},
   "outputs": [],
   "source": [
    "def write_to_csv(y_pred, test_id, file_path):\n",
    "    y_pred_dataframe = pd.DataFrame(y_pred, columns=['lat_pred', 'lon_pred'])\n",
    "    y_pred_dataframe = pd.concat([y_pred_dataframe, test_id], axis=1)\n",
    "    y_pred_dataframe.to_csv(path_or_buf=file_path, index = False)"
   ]
  },
  {
   "cell_type": "code",
   "execution_count": 44,
   "metadata": {},
   "outputs": [
    {
     "data": {
      "text/html": [
       "<div>\n",
       "<style scoped>\n",
       "    .dataframe tbody tr th:only-of-type {\n",
       "        vertical-align: middle;\n",
       "    }\n",
       "\n",
       "    .dataframe tbody tr th {\n",
       "        vertical-align: top;\n",
       "    }\n",
       "\n",
       "    .dataframe thead th {\n",
       "        text-align: right;\n",
       "    }\n",
       "</style>\n",
       "<table border=\"1\" class=\"dataframe\">\n",
       "  <thead>\n",
       "    <tr style=\"text-align: right;\">\n",
       "      <th></th>\n",
       "      <th>lat</th>\n",
       "      <th>lon</th>\n",
       "      <th>rssi_1_1</th>\n",
       "      <th>rssi_1_2</th>\n",
       "      <th>rssi_1_3</th>\n",
       "      <th>rssi_2_1</th>\n",
       "      <th>rssi_2_2</th>\n",
       "      <th>rssi_2_3</th>\n",
       "      <th>rssi_3_1</th>\n",
       "      <th>rssi_3_2</th>\n",
       "      <th>rssi_3_3</th>\n",
       "      <th>delay_1</th>\n",
       "      <th>delay_2</th>\n",
       "      <th>delay_3</th>\n",
       "      <th>pontoId</th>\n",
       "    </tr>\n",
       "  </thead>\n",
       "  <tbody>\n",
       "    <tr>\n",
       "      <th>0</th>\n",
       "      <td>-8.05438</td>\n",
       "      <td>-34.95408</td>\n",
       "      <td>-89.044286</td>\n",
       "      <td>-96.667143</td>\n",
       "      <td>-91.320000</td>\n",
       "      <td>-96.106667</td>\n",
       "      <td>-94.48000</td>\n",
       "      <td>-90.187143</td>\n",
       "      <td>-94.125000</td>\n",
       "      <td>-85.182000</td>\n",
       "      <td>-96.420000</td>\n",
       "      <td>5</td>\n",
       "      <td>4</td>\n",
       "      <td>2</td>\n",
       "      <td>7531</td>\n",
       "    </tr>\n",
       "    <tr>\n",
       "      <th>1</th>\n",
       "      <td>-8.05337</td>\n",
       "      <td>-34.94889</td>\n",
       "      <td>-91.970000</td>\n",
       "      <td>-89.548571</td>\n",
       "      <td>-88.555714</td>\n",
       "      <td>-82.520000</td>\n",
       "      <td>-80.44500</td>\n",
       "      <td>-89.910000</td>\n",
       "      <td>-88.916667</td>\n",
       "      <td>-91.602000</td>\n",
       "      <td>-97.255000</td>\n",
       "      <td>5</td>\n",
       "      <td>2</td>\n",
       "      <td>4</td>\n",
       "      <td>7748</td>\n",
       "    </tr>\n",
       "    <tr>\n",
       "      <th>2</th>\n",
       "      <td>-8.05561</td>\n",
       "      <td>-34.95431</td>\n",
       "      <td>-90.025714</td>\n",
       "      <td>-96.200000</td>\n",
       "      <td>-91.204286</td>\n",
       "      <td>-98.160000</td>\n",
       "      <td>-91.93500</td>\n",
       "      <td>-92.671429</td>\n",
       "      <td>-78.636667</td>\n",
       "      <td>-68.340000</td>\n",
       "      <td>-92.780000</td>\n",
       "      <td>6</td>\n",
       "      <td>5</td>\n",
       "      <td>2</td>\n",
       "      <td>7035</td>\n",
       "    </tr>\n",
       "    <tr>\n",
       "      <th>3</th>\n",
       "      <td>-8.05562</td>\n",
       "      <td>-34.95405</td>\n",
       "      <td>-94.525714</td>\n",
       "      <td>-96.200000</td>\n",
       "      <td>-93.830000</td>\n",
       "      <td>-98.216667</td>\n",
       "      <td>-94.67000</td>\n",
       "      <td>-94.844286</td>\n",
       "      <td>-79.065000</td>\n",
       "      <td>-68.250000</td>\n",
       "      <td>-96.212500</td>\n",
       "      <td>6</td>\n",
       "      <td>5</td>\n",
       "      <td>2</td>\n",
       "      <td>7026</td>\n",
       "    </tr>\n",
       "    <tr>\n",
       "      <th>4</th>\n",
       "      <td>-8.05007</td>\n",
       "      <td>-34.95474</td>\n",
       "      <td>-82.999429</td>\n",
       "      <td>-98.255357</td>\n",
       "      <td>-87.818571</td>\n",
       "      <td>-101.535000</td>\n",
       "      <td>-97.59125</td>\n",
       "      <td>-90.656905</td>\n",
       "      <td>-80.617222</td>\n",
       "      <td>-99.934667</td>\n",
       "      <td>-96.982778</td>\n",
       "      <td>3</td>\n",
       "      <td>5</td>\n",
       "      <td>3</td>\n",
       "      <td>8797</td>\n",
       "    </tr>\n",
       "  </tbody>\n",
       "</table>\n",
       "</div>"
      ],
      "text/plain": [
       "       lat       lon   rssi_1_1   rssi_1_2   rssi_1_3    rssi_2_1  rssi_2_2  \\\n",
       "0 -8.05438 -34.95408 -89.044286 -96.667143 -91.320000  -96.106667 -94.48000   \n",
       "1 -8.05337 -34.94889 -91.970000 -89.548571 -88.555714  -82.520000 -80.44500   \n",
       "2 -8.05561 -34.95431 -90.025714 -96.200000 -91.204286  -98.160000 -91.93500   \n",
       "3 -8.05562 -34.95405 -94.525714 -96.200000 -93.830000  -98.216667 -94.67000   \n",
       "4 -8.05007 -34.95474 -82.999429 -98.255357 -87.818571 -101.535000 -97.59125   \n",
       "\n",
       "    rssi_2_3   rssi_3_1   rssi_3_2   rssi_3_3  delay_1  delay_2  delay_3  \\\n",
       "0 -90.187143 -94.125000 -85.182000 -96.420000        5        4        2   \n",
       "1 -89.910000 -88.916667 -91.602000 -97.255000        5        2        4   \n",
       "2 -92.671429 -78.636667 -68.340000 -92.780000        6        5        2   \n",
       "3 -94.844286 -79.065000 -68.250000 -96.212500        6        5        2   \n",
       "4 -90.656905 -80.617222 -99.934667 -96.982778        3        5        3   \n",
       "\n",
       "   pontoId  \n",
       "0     7531  \n",
       "1     7748  \n",
       "2     7035  \n",
       "3     7026  \n",
       "4     8797  "
      ]
     },
     "execution_count": 44,
     "metadata": {},
     "output_type": "execute_result"
    }
   ],
   "source": [
    "db_all = pd.read_csv(\"database/LocTreino_Equipe_4.csv\")\n",
    "db_train = pd.read_csv(\"database/LocTreino.csv\")\n",
    "db_test = pd.read_csv(\"database/LocTeste.csv\")\n",
    "db_train.head()"
   ]
  },
  {
   "cell_type": "code",
   "execution_count": 45,
   "metadata": {},
   "outputs": [
    {
     "data": {
      "text/html": [
       "<div>\n",
       "<style scoped>\n",
       "    .dataframe tbody tr th:only-of-type {\n",
       "        vertical-align: middle;\n",
       "    }\n",
       "\n",
       "    .dataframe tbody tr th {\n",
       "        vertical-align: top;\n",
       "    }\n",
       "\n",
       "    .dataframe thead th {\n",
       "        text-align: right;\n",
       "    }\n",
       "</style>\n",
       "<table border=\"1\" class=\"dataframe\">\n",
       "  <thead>\n",
       "    <tr style=\"text-align: right;\">\n",
       "      <th></th>\n",
       "      <th>rssi_1_1</th>\n",
       "      <th>rssi_1_2</th>\n",
       "      <th>rssi_1_3</th>\n",
       "      <th>rssi_2_1</th>\n",
       "      <th>rssi_2_2</th>\n",
       "      <th>rssi_2_3</th>\n",
       "      <th>rssi_3_1</th>\n",
       "      <th>rssi_3_2</th>\n",
       "      <th>rssi_3_3</th>\n",
       "      <th>delay_1</th>\n",
       "      <th>delay_2</th>\n",
       "      <th>delay_3</th>\n",
       "    </tr>\n",
       "  </thead>\n",
       "  <tbody>\n",
       "    <tr>\n",
       "      <th>0</th>\n",
       "      <td>-89.044286</td>\n",
       "      <td>-96.667143</td>\n",
       "      <td>-91.320000</td>\n",
       "      <td>-96.106667</td>\n",
       "      <td>-94.48000</td>\n",
       "      <td>-90.187143</td>\n",
       "      <td>-94.125000</td>\n",
       "      <td>-85.182000</td>\n",
       "      <td>-96.420000</td>\n",
       "      <td>5</td>\n",
       "      <td>4</td>\n",
       "      <td>2</td>\n",
       "    </tr>\n",
       "    <tr>\n",
       "      <th>1</th>\n",
       "      <td>-91.970000</td>\n",
       "      <td>-89.548571</td>\n",
       "      <td>-88.555714</td>\n",
       "      <td>-82.520000</td>\n",
       "      <td>-80.44500</td>\n",
       "      <td>-89.910000</td>\n",
       "      <td>-88.916667</td>\n",
       "      <td>-91.602000</td>\n",
       "      <td>-97.255000</td>\n",
       "      <td>5</td>\n",
       "      <td>2</td>\n",
       "      <td>4</td>\n",
       "    </tr>\n",
       "    <tr>\n",
       "      <th>2</th>\n",
       "      <td>-90.025714</td>\n",
       "      <td>-96.200000</td>\n",
       "      <td>-91.204286</td>\n",
       "      <td>-98.160000</td>\n",
       "      <td>-91.93500</td>\n",
       "      <td>-92.671429</td>\n",
       "      <td>-78.636667</td>\n",
       "      <td>-68.340000</td>\n",
       "      <td>-92.780000</td>\n",
       "      <td>6</td>\n",
       "      <td>5</td>\n",
       "      <td>2</td>\n",
       "    </tr>\n",
       "    <tr>\n",
       "      <th>3</th>\n",
       "      <td>-94.525714</td>\n",
       "      <td>-96.200000</td>\n",
       "      <td>-93.830000</td>\n",
       "      <td>-98.216667</td>\n",
       "      <td>-94.67000</td>\n",
       "      <td>-94.844286</td>\n",
       "      <td>-79.065000</td>\n",
       "      <td>-68.250000</td>\n",
       "      <td>-96.212500</td>\n",
       "      <td>6</td>\n",
       "      <td>5</td>\n",
       "      <td>2</td>\n",
       "    </tr>\n",
       "    <tr>\n",
       "      <th>4</th>\n",
       "      <td>-82.999429</td>\n",
       "      <td>-98.255357</td>\n",
       "      <td>-87.818571</td>\n",
       "      <td>-101.535000</td>\n",
       "      <td>-97.59125</td>\n",
       "      <td>-90.656905</td>\n",
       "      <td>-80.617222</td>\n",
       "      <td>-99.934667</td>\n",
       "      <td>-96.982778</td>\n",
       "      <td>3</td>\n",
       "      <td>5</td>\n",
       "      <td>3</td>\n",
       "    </tr>\n",
       "  </tbody>\n",
       "</table>\n",
       "</div>"
      ],
      "text/plain": [
       "    rssi_1_1   rssi_1_2   rssi_1_3    rssi_2_1  rssi_2_2   rssi_2_3  \\\n",
       "0 -89.044286 -96.667143 -91.320000  -96.106667 -94.48000 -90.187143   \n",
       "1 -91.970000 -89.548571 -88.555714  -82.520000 -80.44500 -89.910000   \n",
       "2 -90.025714 -96.200000 -91.204286  -98.160000 -91.93500 -92.671429   \n",
       "3 -94.525714 -96.200000 -93.830000  -98.216667 -94.67000 -94.844286   \n",
       "4 -82.999429 -98.255357 -87.818571 -101.535000 -97.59125 -90.656905   \n",
       "\n",
       "    rssi_3_1   rssi_3_2   rssi_3_3  delay_1  delay_2  delay_3  \n",
       "0 -94.125000 -85.182000 -96.420000        5        4        2  \n",
       "1 -88.916667 -91.602000 -97.255000        5        2        4  \n",
       "2 -78.636667 -68.340000 -92.780000        6        5        2  \n",
       "3 -79.065000 -68.250000 -96.212500        6        5        2  \n",
       "4 -80.617222 -99.934667 -96.982778        3        5        3  "
      ]
     },
     "execution_count": 45,
     "metadata": {},
     "output_type": "execute_result"
    }
   ],
   "source": [
    "X_train = db_train.drop(\"lat\", axis = 1)\n",
    "X_train = X_train.drop(\"lon\", axis = 1)\n",
    "X_train = X_train.drop(\"pontoId\", axis = 1)\n",
    "X_test = db_test.drop(\"lat\", axis  = 1)\n",
    "X_test = X_test.drop(\"lon\", axis = 1)\n",
    "X_test = X_test.drop(\"pontoId\", axis = 1)\n",
    "X_train.head()"
   ]
  },
  {
   "cell_type": "code",
   "execution_count": 46,
   "metadata": {
    "scrolled": true
   },
   "outputs": [
    {
     "data": {
      "text/plain": [
       "0   -8.05438\n",
       "1   -8.05337\n",
       "2   -8.05561\n",
       "3   -8.05562\n",
       "4   -8.05007\n",
       "Name: lat, dtype: float64"
      ]
     },
     "execution_count": 46,
     "metadata": {},
     "output_type": "execute_result"
    }
   ],
   "source": [
    "lat_train = db_train[\"lat\"]\n",
    "lat_test = db_test[\"lat\"]\n",
    "lat_train.head()"
   ]
  },
  {
   "cell_type": "code",
   "execution_count": 47,
   "metadata": {},
   "outputs": [
    {
     "data": {
      "text/plain": [
       "0   -34.95408\n",
       "1   -34.94889\n",
       "2   -34.95431\n",
       "3   -34.95405\n",
       "4   -34.95474\n",
       "Name: lon, dtype: float64"
      ]
     },
     "execution_count": 47,
     "metadata": {},
     "output_type": "execute_result"
    }
   ],
   "source": [
    "lon_train = db_train[\"lon\"]\n",
    "lon_test = X_test1[\"lon\"]\n",
    "lon_train.head()"
   ]
  },
  {
   "cell_type": "code",
   "execution_count": 48,
   "metadata": {},
   "outputs": [
    {
     "data": {
      "text/html": [
       "<div>\n",
       "<style scoped>\n",
       "    .dataframe tbody tr th:only-of-type {\n",
       "        vertical-align: middle;\n",
       "    }\n",
       "\n",
       "    .dataframe tbody tr th {\n",
       "        vertical-align: top;\n",
       "    }\n",
       "\n",
       "    .dataframe thead th {\n",
       "        text-align: right;\n",
       "    }\n",
       "</style>\n",
       "<table border=\"1\" class=\"dataframe\">\n",
       "  <thead>\n",
       "    <tr style=\"text-align: right;\">\n",
       "      <th></th>\n",
       "      <th>lat</th>\n",
       "      <th>lon</th>\n",
       "      <th>pontoId</th>\n",
       "    </tr>\n",
       "  </thead>\n",
       "  <tbody>\n",
       "    <tr>\n",
       "      <th>0</th>\n",
       "      <td>-8.05542</td>\n",
       "      <td>-34.94907</td>\n",
       "      <td>7204.0</td>\n",
       "    </tr>\n",
       "    <tr>\n",
       "      <th>1</th>\n",
       "      <td>-8.05565</td>\n",
       "      <td>-34.95977</td>\n",
       "      <td>6997.0</td>\n",
       "    </tr>\n",
       "    <tr>\n",
       "      <th>2</th>\n",
       "      <td>-8.04842</td>\n",
       "      <td>-34.95607</td>\n",
       "      <td>9258.0</td>\n",
       "    </tr>\n",
       "    <tr>\n",
       "      <th>3</th>\n",
       "      <td>-8.05127</td>\n",
       "      <td>-34.94758</td>\n",
       "      <td>8489.0</td>\n",
       "    </tr>\n",
       "    <tr>\n",
       "      <th>4</th>\n",
       "      <td>-8.05240</td>\n",
       "      <td>-34.94757</td>\n",
       "      <td>7929.0</td>\n",
       "    </tr>\n",
       "  </tbody>\n",
       "</table>\n",
       "</div>"
      ],
      "text/plain": [
       "       lat       lon  pontoId\n",
       "0 -8.05542 -34.94907   7204.0\n",
       "1 -8.05565 -34.95977   6997.0\n",
       "2 -8.04842 -34.95607   9258.0\n",
       "3 -8.05127 -34.94758   8489.0\n",
       "4 -8.05240 -34.94757   7929.0"
      ]
     },
     "execution_count": 48,
     "metadata": {},
     "output_type": "execute_result"
    }
   ],
   "source": [
    "y_train = pd.concat([lat_train, lon_train], axis=1)\n",
    "y_test = pd.concat([lat_test, lon_test], axis=1)\n",
    "test_id = db_test[\"pontoId\"]\n",
    "y_ref = pd.concat([y_test, test_id], axis=1)\n",
    "y_ref.head()"
   ]
  },
  {
   "cell_type": "code",
   "execution_count": 49,
   "metadata": {},
   "outputs": [],
   "source": [
    "from sklearn.neighbors import KNeighborsRegressor\n",
    "neigh = KNeighborsRegressor(n_neighbors=5)\n",
    "neigh.fit(X_train, y_train)\n",
    "y_pred_cso = neigh.predict(X_test)\n",
    "write_to_csv(y_pred_cso, test_id, \"result/Resultados_Equipe4_Metodo_8.csv\")"
   ]
  },
  {
   "cell_type": "code",
   "execution_count": 50,
   "metadata": {},
   "outputs": [
    {
     "data": {
      "text/plain": [
       "[0.0024096800000004788,\n",
       " 1.5109820080005076e-05,\n",
       " 0.0038871352021771863,\n",
       " 0.053487340642696335]"
      ]
     },
     "execution_count": 50,
     "metadata": {},
     "output_type": "execute_result"
    }
   ],
   "source": [
    "from sklearn.metrics import mean_absolute_error, mean_squared_error, r2_score\n",
    "results = [mean_absolute_error(y_test, y_pred_cso), mean_squared_error(y_test, y_pred_cso), np.sqrt(mean_squared_error(y_test, y_pred_cso)), r2_score(y_test, y_pred_cso)]\n",
    "results"
   ]
  },
  {
   "cell_type": "code",
   "execution_count": 51,
   "metadata": {},
   "outputs": [
    {
     "name": "stdout",
     "output_type": "stream",
     "text": [
      "min:            4.87 m\n",
      "max:            1543.57 m\n",
      "mean:           493.04 m\n",
      "std deviation:  352.35 m\n"
     ]
    }
   ],
   "source": [
    "y_test_np = y_test.to_numpy()\n",
    "get_quality_metrics(y_test_np, y_pred_cso)   "
   ]
  },
  {
   "cell_type": "code",
   "execution_count": 52,
   "metadata": {},
   "outputs": [
    {
     "ename": "KeyboardInterrupt",
     "evalue": "",
     "output_type": "error",
     "traceback": [
      "\u001b[0;31m---------------------------------------------------------------------------\u001b[0m",
      "\u001b[0;31mEmpty\u001b[0m                                     Traceback (most recent call last)",
      "\u001b[0;32m/usr/local/lib/python3.7/site-packages/joblib/parallel.py\u001b[0m in \u001b[0;36mdispatch_one_batch\u001b[0;34m(self, iterator)\u001b[0m\n\u001b[1;32m    795\u001b[0m             \u001b[0;32mtry\u001b[0m\u001b[0;34m:\u001b[0m\u001b[0;34m\u001b[0m\u001b[0;34m\u001b[0m\u001b[0m\n\u001b[0;32m--> 796\u001b[0;31m                 \u001b[0mtasks\u001b[0m \u001b[0;34m=\u001b[0m \u001b[0mself\u001b[0m\u001b[0;34m.\u001b[0m\u001b[0m_ready_batches\u001b[0m\u001b[0;34m.\u001b[0m\u001b[0mget\u001b[0m\u001b[0;34m(\u001b[0m\u001b[0mblock\u001b[0m\u001b[0;34m=\u001b[0m\u001b[0;32mFalse\u001b[0m\u001b[0;34m)\u001b[0m\u001b[0;34m\u001b[0m\u001b[0;34m\u001b[0m\u001b[0m\n\u001b[0m\u001b[1;32m    797\u001b[0m             \u001b[0;32mexcept\u001b[0m \u001b[0mqueue\u001b[0m\u001b[0;34m.\u001b[0m\u001b[0mEmpty\u001b[0m\u001b[0;34m:\u001b[0m\u001b[0;34m\u001b[0m\u001b[0;34m\u001b[0m\u001b[0m\n",
      "\u001b[0;32m/usr/local/Cellar/python/3.7.4_1/Frameworks/Python.framework/Versions/3.7/lib/python3.7/queue.py\u001b[0m in \u001b[0;36mget\u001b[0;34m(self, block, timeout)\u001b[0m\n\u001b[1;32m    166\u001b[0m                 \u001b[0;32mif\u001b[0m \u001b[0;32mnot\u001b[0m \u001b[0mself\u001b[0m\u001b[0;34m.\u001b[0m\u001b[0m_qsize\u001b[0m\u001b[0;34m(\u001b[0m\u001b[0;34m)\u001b[0m\u001b[0;34m:\u001b[0m\u001b[0;34m\u001b[0m\u001b[0;34m\u001b[0m\u001b[0m\n\u001b[0;32m--> 167\u001b[0;31m                     \u001b[0;32mraise\u001b[0m \u001b[0mEmpty\u001b[0m\u001b[0;34m\u001b[0m\u001b[0;34m\u001b[0m\u001b[0m\n\u001b[0m\u001b[1;32m    168\u001b[0m             \u001b[0;32melif\u001b[0m \u001b[0mtimeout\u001b[0m \u001b[0;32mis\u001b[0m \u001b[0;32mNone\u001b[0m\u001b[0;34m:\u001b[0m\u001b[0;34m\u001b[0m\u001b[0;34m\u001b[0m\u001b[0m\n",
      "\u001b[0;31mEmpty\u001b[0m: ",
      "\nDuring handling of the above exception, another exception occurred:\n",
      "\u001b[0;31mKeyboardInterrupt\u001b[0m                         Traceback (most recent call last)",
      "\u001b[0;32m<ipython-input-52-02d7ec59d235>\u001b[0m in \u001b[0;36m<module>\u001b[0;34m\u001b[0m\n\u001b[1;32m     11\u001b[0m     \u001b[0mrefit\u001b[0m \u001b[0;34m=\u001b[0m \u001b[0;32mTrue\u001b[0m\u001b[0;34m\u001b[0m\u001b[0;34m\u001b[0m\u001b[0m\n\u001b[1;32m     12\u001b[0m )\n\u001b[0;32m---> 13\u001b[0;31m \u001b[0mgrid\u001b[0m\u001b[0;34m.\u001b[0m\u001b[0mfit\u001b[0m\u001b[0;34m(\u001b[0m\u001b[0mX_train\u001b[0m\u001b[0;34m,\u001b[0m \u001b[0my_train\u001b[0m\u001b[0;34m)\u001b[0m\u001b[0;34m\u001b[0m\u001b[0;34m\u001b[0m\u001b[0m\n\u001b[0m\u001b[1;32m     14\u001b[0m \u001b[0mgrid\u001b[0m\u001b[0;34m.\u001b[0m\u001b[0mbest_params_\u001b[0m\u001b[0;34m\u001b[0m\u001b[0;34m\u001b[0m\u001b[0m\n",
      "\u001b[0;32m/usr/local/lib/python3.7/site-packages/sklearn/model_selection/_search.py\u001b[0m in \u001b[0;36mfit\u001b[0;34m(self, X, y, groups, **fit_params)\u001b[0m\n\u001b[1;32m    686\u001b[0m                 \u001b[0;32mreturn\u001b[0m \u001b[0mresults\u001b[0m\u001b[0;34m\u001b[0m\u001b[0;34m\u001b[0m\u001b[0m\n\u001b[1;32m    687\u001b[0m \u001b[0;34m\u001b[0m\u001b[0m\n\u001b[0;32m--> 688\u001b[0;31m             \u001b[0mself\u001b[0m\u001b[0;34m.\u001b[0m\u001b[0m_run_search\u001b[0m\u001b[0;34m(\u001b[0m\u001b[0mevaluate_candidates\u001b[0m\u001b[0;34m)\u001b[0m\u001b[0;34m\u001b[0m\u001b[0;34m\u001b[0m\u001b[0m\n\u001b[0m\u001b[1;32m    689\u001b[0m \u001b[0;34m\u001b[0m\u001b[0m\n\u001b[1;32m    690\u001b[0m         \u001b[0;31m# For multi-metric evaluation, store the best_index_, best_params_ and\u001b[0m\u001b[0;34m\u001b[0m\u001b[0;34m\u001b[0m\u001b[0;34m\u001b[0m\u001b[0m\n",
      "\u001b[0;32m/usr/local/lib/python3.7/site-packages/sklearn/model_selection/_search.py\u001b[0m in \u001b[0;36m_run_search\u001b[0;34m(self, evaluate_candidates)\u001b[0m\n\u001b[1;32m   1147\u001b[0m     \u001b[0;32mdef\u001b[0m \u001b[0m_run_search\u001b[0m\u001b[0;34m(\u001b[0m\u001b[0mself\u001b[0m\u001b[0;34m,\u001b[0m \u001b[0mevaluate_candidates\u001b[0m\u001b[0;34m)\u001b[0m\u001b[0;34m:\u001b[0m\u001b[0;34m\u001b[0m\u001b[0;34m\u001b[0m\u001b[0m\n\u001b[1;32m   1148\u001b[0m         \u001b[0;34m\"\"\"Search all candidates in param_grid\"\"\"\u001b[0m\u001b[0;34m\u001b[0m\u001b[0;34m\u001b[0m\u001b[0m\n\u001b[0;32m-> 1149\u001b[0;31m         \u001b[0mevaluate_candidates\u001b[0m\u001b[0;34m(\u001b[0m\u001b[0mParameterGrid\u001b[0m\u001b[0;34m(\u001b[0m\u001b[0mself\u001b[0m\u001b[0;34m.\u001b[0m\u001b[0mparam_grid\u001b[0m\u001b[0;34m)\u001b[0m\u001b[0;34m)\u001b[0m\u001b[0;34m\u001b[0m\u001b[0;34m\u001b[0m\u001b[0m\n\u001b[0m\u001b[1;32m   1150\u001b[0m \u001b[0;34m\u001b[0m\u001b[0m\n\u001b[1;32m   1151\u001b[0m \u001b[0;34m\u001b[0m\u001b[0m\n",
      "\u001b[0;32m/usr/local/lib/python3.7/site-packages/sklearn/model_selection/_search.py\u001b[0m in \u001b[0;36mevaluate_candidates\u001b[0;34m(candidate_params)\u001b[0m\n\u001b[1;32m    665\u001b[0m                                \u001b[0;32mfor\u001b[0m \u001b[0mparameters\u001b[0m\u001b[0;34m,\u001b[0m \u001b[0;34m(\u001b[0m\u001b[0mtrain\u001b[0m\u001b[0;34m,\u001b[0m \u001b[0mtest\u001b[0m\u001b[0;34m)\u001b[0m\u001b[0;34m\u001b[0m\u001b[0;34m\u001b[0m\u001b[0m\n\u001b[1;32m    666\u001b[0m                                in product(candidate_params,\n\u001b[0;32m--> 667\u001b[0;31m                                           cv.split(X, y, groups)))\n\u001b[0m\u001b[1;32m    668\u001b[0m \u001b[0;34m\u001b[0m\u001b[0m\n\u001b[1;32m    669\u001b[0m                 \u001b[0;32mif\u001b[0m \u001b[0mlen\u001b[0m\u001b[0;34m(\u001b[0m\u001b[0mout\u001b[0m\u001b[0;34m)\u001b[0m \u001b[0;34m<\u001b[0m \u001b[0;36m1\u001b[0m\u001b[0;34m:\u001b[0m\u001b[0;34m\u001b[0m\u001b[0;34m\u001b[0m\u001b[0m\n",
      "\u001b[0;32m/usr/local/lib/python3.7/site-packages/joblib/parallel.py\u001b[0m in \u001b[0;36m__call__\u001b[0;34m(self, iterable)\u001b[0m\n\u001b[1;32m   1004\u001b[0m                 \u001b[0mself\u001b[0m\u001b[0;34m.\u001b[0m\u001b[0m_iterating\u001b[0m \u001b[0;34m=\u001b[0m \u001b[0mself\u001b[0m\u001b[0;34m.\u001b[0m\u001b[0m_original_iterator\u001b[0m \u001b[0;32mis\u001b[0m \u001b[0;32mnot\u001b[0m \u001b[0;32mNone\u001b[0m\u001b[0;34m\u001b[0m\u001b[0;34m\u001b[0m\u001b[0m\n\u001b[1;32m   1005\u001b[0m \u001b[0;34m\u001b[0m\u001b[0m\n\u001b[0;32m-> 1006\u001b[0;31m             \u001b[0;32mwhile\u001b[0m \u001b[0mself\u001b[0m\u001b[0;34m.\u001b[0m\u001b[0mdispatch_one_batch\u001b[0m\u001b[0;34m(\u001b[0m\u001b[0miterator\u001b[0m\u001b[0;34m)\u001b[0m\u001b[0;34m:\u001b[0m\u001b[0;34m\u001b[0m\u001b[0;34m\u001b[0m\u001b[0m\n\u001b[0m\u001b[1;32m   1007\u001b[0m                 \u001b[0;32mpass\u001b[0m\u001b[0;34m\u001b[0m\u001b[0;34m\u001b[0m\u001b[0m\n\u001b[1;32m   1008\u001b[0m \u001b[0;34m\u001b[0m\u001b[0m\n",
      "\u001b[0;32m/usr/local/lib/python3.7/site-packages/joblib/parallel.py\u001b[0m in \u001b[0;36mdispatch_one_batch\u001b[0;34m(self, iterator)\u001b[0m\n\u001b[1;32m    824\u001b[0m                                          \u001b[0mself\u001b[0m\u001b[0;34m.\u001b[0m\u001b[0m_backend\u001b[0m\u001b[0;34m.\u001b[0m\u001b[0mget_nested_backend\u001b[0m\u001b[0;34m(\u001b[0m\u001b[0;34m)\u001b[0m\u001b[0;34m,\u001b[0m\u001b[0;34m\u001b[0m\u001b[0;34m\u001b[0m\u001b[0m\n\u001b[1;32m    825\u001b[0m                                          self._pickle_cache)\n\u001b[0;32m--> 826\u001b[0;31m                     \u001b[0mself\u001b[0m\u001b[0;34m.\u001b[0m\u001b[0m_ready_batches\u001b[0m\u001b[0;34m.\u001b[0m\u001b[0mput\u001b[0m\u001b[0;34m(\u001b[0m\u001b[0mtasks\u001b[0m\u001b[0;34m)\u001b[0m\u001b[0;34m\u001b[0m\u001b[0;34m\u001b[0m\u001b[0m\n\u001b[0m\u001b[1;32m    827\u001b[0m \u001b[0;34m\u001b[0m\u001b[0m\n\u001b[1;32m    828\u001b[0m                 \u001b[0;31m# finally, get one task.\u001b[0m\u001b[0;34m\u001b[0m\u001b[0;34m\u001b[0m\u001b[0;34m\u001b[0m\u001b[0m\n",
      "\u001b[0;31mKeyboardInterrupt\u001b[0m: "
     ]
    }
   ],
   "source": [
    "from sklearn.model_selection import GridSearchCV\n",
    "parameters = {'n_neighbors': list(range(1, 100))}\n",
    "neigh = KNeighborsRegressor()\n",
    "\n",
    "grid = GridSearchCV(\n",
    "    neigh,\n",
    "    parameters,\n",
    "    cv = 5,\n",
    "    scoring = 'neg_mean_squared_error',\n",
    "    return_train_score = True,\n",
    "    refit = True\n",
    ")\n",
    "grid.fit(X_train, y_train)\n",
    "grid.best_params_"
   ]
  },
  {
   "cell_type": "code",
   "execution_count": 53,
   "metadata": {},
   "outputs": [
    {
     "name": "stdout",
     "output_type": "stream",
     "text": [
      "min:            15.54 m\n",
      "max:            1551.35 m\n",
      "mean:           486.23 m\n",
      "std deviation:  358.75 m\n"
     ]
    }
   ],
   "source": [
    "from sklearn import preprocessing\n",
    "scaler = preprocessing.RobustScaler().fit(X_train)\n",
    "X_train_scaled = scaler.transform(X_train)\n",
    "X_test_scaled  = scaler.transform(X_test)\n",
    "neigh = KNeighborsRegressor(n_neighbors=3)\n",
    "neigh.fit(X_train_scaled, y_train)\n",
    "y_pred_cso_scaled = neigh.predict(X_test_scaled)\n",
    "get_quality_metrics(y_test_np, y_pred_cso_scaled)"
   ]
  },
  {
   "cell_type": "code",
   "execution_count": 54,
   "metadata": {},
   "outputs": [],
   "source": [
    "write_to_csv(y_pred_cso_scaled, test_id, \"result/Resultados_Equipe4_Metodo_8.csv\")"
   ]
  },
  {
   "cell_type": "code",
   "execution_count": null,
   "metadata": {},
   "outputs": [],
   "source": []
  }
 ],
 "metadata": {
  "kernelspec": {
   "display_name": "Python 3",
   "language": "python",
   "name": "python3"
  },
  "language_info": {
   "codemirror_mode": {
    "name": "ipython",
    "version": 3
   },
   "file_extension": ".py",
   "mimetype": "text/x-python",
   "name": "python",
   "nbconvert_exporter": "python",
   "pygments_lexer": "ipython3",
   "version": "3.7.4"
  }
 },
 "nbformat": 4,
 "nbformat_minor": 2
}
