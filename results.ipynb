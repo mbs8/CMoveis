{
 "cells": [
  {
   "cell_type": "code",
   "execution_count": 1,
   "metadata": {},
   "outputs": [],
   "source": [
    "import pandas as pd\n",
    "import numpy as np\n",
    "import math\n",
    "import os"
   ]
  },
  {
   "cell_type": "markdown",
   "metadata": {},
   "source": [
    "# 1. Análise dos dados"
   ]
  },
  {
   "cell_type": "code",
   "execution_count": 56,
   "metadata": {},
   "outputs": [
    {
     "data": {
      "text/html": [
       "<div>\n",
       "<style scoped>\n",
       "    .dataframe tbody tr th:only-of-type {\n",
       "        vertical-align: middle;\n",
       "    }\n",
       "\n",
       "    .dataframe tbody tr th {\n",
       "        vertical-align: top;\n",
       "    }\n",
       "\n",
       "    .dataframe thead th {\n",
       "        text-align: right;\n",
       "    }\n",
       "</style>\n",
       "<table border=\"1\" class=\"dataframe\">\n",
       "  <thead>\n",
       "    <tr style=\"text-align: right;\">\n",
       "      <th></th>\n",
       "      <th>Mean</th>\n",
       "      <th>Std. Deviation</th>\n",
       "      <th>Min</th>\n",
       "      <th>Max</th>\n",
       "    </tr>\n",
       "  </thead>\n",
       "  <tbody>\n",
       "    <tr>\n",
       "      <th>lat</th>\n",
       "      <td>-8.052194</td>\n",
       "      <td>0.003181</td>\n",
       "      <td>-8.05955</td>\n",
       "      <td>-8.04642</td>\n",
       "    </tr>\n",
       "    <tr>\n",
       "      <th>lon</th>\n",
       "      <td>-34.952254</td>\n",
       "      <td>0.004043</td>\n",
       "      <td>-34.95985</td>\n",
       "      <td>-34.94511</td>\n",
       "    </tr>\n",
       "    <tr>\n",
       "      <th>rssi_1_1</th>\n",
       "      <td>-88.894304</td>\n",
       "      <td>6.244573</td>\n",
       "      <td>-110.21000</td>\n",
       "      <td>-61.38000</td>\n",
       "    </tr>\n",
       "    <tr>\n",
       "      <th>rssi_1_2</th>\n",
       "      <td>-92.674192</td>\n",
       "      <td>5.709887</td>\n",
       "      <td>-105.00000</td>\n",
       "      <td>-65.39000</td>\n",
       "    </tr>\n",
       "    <tr>\n",
       "      <th>rssi_1_3</th>\n",
       "      <td>-89.101067</td>\n",
       "      <td>6.129258</td>\n",
       "      <td>-104.48500</td>\n",
       "      <td>-62.32000</td>\n",
       "    </tr>\n",
       "    <tr>\n",
       "      <th>rssi_2_1</th>\n",
       "      <td>-88.582943</td>\n",
       "      <td>12.700474</td>\n",
       "      <td>-107.01000</td>\n",
       "      <td>-36.96000</td>\n",
       "    </tr>\n",
       "    <tr>\n",
       "      <th>rssi_2_2</th>\n",
       "      <td>-90.587305</td>\n",
       "      <td>7.978007</td>\n",
       "      <td>-104.47000</td>\n",
       "      <td>-55.55000</td>\n",
       "    </tr>\n",
       "    <tr>\n",
       "      <th>rssi_2_3</th>\n",
       "      <td>-89.274726</td>\n",
       "      <td>6.903897</td>\n",
       "      <td>-104.54000</td>\n",
       "      <td>-60.48000</td>\n",
       "    </tr>\n",
       "    <tr>\n",
       "      <th>rssi_3_1</th>\n",
       "      <td>-87.837028</td>\n",
       "      <td>7.899230</td>\n",
       "      <td>-113.30000</td>\n",
       "      <td>-52.69000</td>\n",
       "    </tr>\n",
       "    <tr>\n",
       "      <th>rssi_3_2</th>\n",
       "      <td>-91.090342</td>\n",
       "      <td>9.982229</td>\n",
       "      <td>-115.63000</td>\n",
       "      <td>-55.87000</td>\n",
       "    </tr>\n",
       "    <tr>\n",
       "      <th>rssi_3_3</th>\n",
       "      <td>-93.173225</td>\n",
       "      <td>8.029798</td>\n",
       "      <td>-105.13000</td>\n",
       "      <td>-50.10000</td>\n",
       "    </tr>\n",
       "    <tr>\n",
       "      <th>delay_1</th>\n",
       "      <td>4.617333</td>\n",
       "      <td>1.467084</td>\n",
       "      <td>1.00000</td>\n",
       "      <td>8.00000</td>\n",
       "    </tr>\n",
       "    <tr>\n",
       "      <th>delay_2</th>\n",
       "      <td>3.962000</td>\n",
       "      <td>1.648343</td>\n",
       "      <td>1.00000</td>\n",
       "      <td>7.00000</td>\n",
       "    </tr>\n",
       "    <tr>\n",
       "      <th>delay_3</th>\n",
       "      <td>3.446667</td>\n",
       "      <td>1.756857</td>\n",
       "      <td>0.00000</td>\n",
       "      <td>7.00000</td>\n",
       "    </tr>\n",
       "  </tbody>\n",
       "</table>\n",
       "</div>"
      ],
      "text/plain": [
       "               Mean  Std. Deviation        Min       Max\n",
       "lat       -8.052194        0.003181   -8.05955  -8.04642\n",
       "lon      -34.952254        0.004043  -34.95985 -34.94511\n",
       "rssi_1_1 -88.894304        6.244573 -110.21000 -61.38000\n",
       "rssi_1_2 -92.674192        5.709887 -105.00000 -65.39000\n",
       "rssi_1_3 -89.101067        6.129258 -104.48500 -62.32000\n",
       "rssi_2_1 -88.582943       12.700474 -107.01000 -36.96000\n",
       "rssi_2_2 -90.587305        7.978007 -104.47000 -55.55000\n",
       "rssi_2_3 -89.274726        6.903897 -104.54000 -60.48000\n",
       "rssi_3_1 -87.837028        7.899230 -113.30000 -52.69000\n",
       "rssi_3_2 -91.090342        9.982229 -115.63000 -55.87000\n",
       "rssi_3_3 -93.173225        8.029798 -105.13000 -50.10000\n",
       "delay_1    4.617333        1.467084    1.00000   8.00000\n",
       "delay_2    3.962000        1.648343    1.00000   7.00000\n",
       "delay_3    3.446667        1.756857    0.00000   7.00000"
      ]
     },
     "execution_count": 56,
     "metadata": {},
     "output_type": "execute_result"
    }
   ],
   "source": [
    "data = pd.read_csv(\"./database/LocTreino_Equipe_4.csv\")\n",
    "df_analysis = pd.DataFrame(index=data.columns.to_list()[:-1], columns=['Mean', \"Std. Deviation\", \"Min\", \"Max\"])\n",
    "df_analysis.Mean = data.mean().to_list()[:-1]\n",
    "df_analysis[\"Std. Deviation\"] = data.std().to_list()[:-1]\n",
    "df_analysis.Min = data.min().to_list()[:-1]\n",
    "df_analysis.Max = data.max().to_list()[:-1]\n",
    "\n",
    "df_analysis"
   ]
  },
  {
   "cell_type": "markdown",
   "metadata": {},
   "source": [
    "# 2. Histograma dos erros (em metros)"
   ]
  },
  {
   "cell_type": "markdown",
   "metadata": {},
   "source": [
    "# 3. Boxplot dos erros (em metros)"
   ]
  },
  {
   "cell_type": "markdown",
   "metadata": {},
   "source": [
    "# 4. Mapa de comparação - posições preditas vs. posições reais"
   ]
  },
  {
   "cell_type": "markdown",
   "metadata": {},
   "source": [
    "# 5. Erros de localização médio, mínimo, máximo e desvio padrão"
   ]
  },
  {
   "cell_type": "markdown",
   "metadata": {},
   "source": []
  }
 ],
 "metadata": {
  "kernelspec": {
   "display_name": "Python 3",
   "language": "python",
   "name": "python3"
  },
  "language_info": {
   "codemirror_mode": {
    "name": "ipython",
    "version": 3
   },
   "file_extension": ".py",
   "mimetype": "text/x-python",
   "name": "python",
   "nbconvert_exporter": "python",
   "pygments_lexer": "ipython3",
   "version": "3.7.4"
  }
 },
 "nbformat": 4,
 "nbformat_minor": 2
}
