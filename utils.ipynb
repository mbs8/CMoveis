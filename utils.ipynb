{
 "cells": [
  {
   "cell_type": "code",
   "execution_count": 1,
   "metadata": {},
   "outputs": [],
   "source": [
    "import pandas as pd\n",
    "import numpy as np\n",
    "import math\n",
    "import os"
   ]
  },
  {
   "cell_type": "code",
   "execution_count": 3,
   "metadata": {},
   "outputs": [],
   "source": [
    "# função para dividir a base de dados em treino e teste\n",
    "def divide_database():\n",
    "    size = 0\n",
    "    elems = []\n",
    "    DATA_DIR = os.getcwd() + \"/database\"\n",
    "    data = pd.read_csv(DATA_DIR + \"/LocTreino_Equipe_4.csv\")\n",
    "\n",
    "    while(size < 150):\n",
    "        i = random.randint(0,1499 - size)\n",
    "        if (i in data.index):\n",
    "            elems.append(data.loc[i])\n",
    "            data.drop(i, inplace=True)\n",
    "            size += 1\n",
    "\n",
    "    test_df = pd.DataFrame(elems)\n",
    "    test_df.to_csv(DATA_DIR + \"/LocTeste.csv\", index=False)\n",
    "    data.to_csv(DATA_DIR + \"/LocTreino.csv\", index=False)"
   ]
  }
 ],
 "metadata": {
  "kernelspec": {
   "display_name": "Python 3",
   "language": "python",
   "name": "python3"
  },
  "language_info": {
   "codemirror_mode": {
    "name": "ipython",
    "version": 3
   },
   "file_extension": ".py",
   "mimetype": "text/x-python",
   "name": "python",
   "nbconvert_exporter": "python",
   "pygments_lexer": "ipython3",
   "version": "3.7.4"
  }
 },
 "nbformat": 4,
 "nbformat_minor": 2
}
