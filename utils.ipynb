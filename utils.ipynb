{
 "cells": [
  {
   "cell_type": "code",
   "execution_count": 6,
   "metadata": {},
   "outputs": [],
   "source": [
    "import pandas as pd\n",
    "import numpy as np\n",
    "import math\n",
    "import os\n",
    "import random\n",
    "from scipy.spatial import distance"
   ]
  },
  {
   "cell_type": "code",
   "execution_count": 7,
   "metadata": {},
   "outputs": [],
   "source": [
    "# função para dividir a base de dados em treino e teste\n",
    "def divide_database():\n",
    "    size = 0\n",
    "    elems = []\n",
    "    DATA_DIR = os.getcwd() + \"/database\"\n",
    "    data = pd.read_csv(DATA_DIR + \"/LocTreino_Equipe_4.csv\")\n",
    "\n",
    "    while(size < 150):\n",
    "        i = random.randint(0,1499 - size)\n",
    "        if (i in data.index):\n",
    "            elems.append(data.loc[i])\n",
    "            data.drop(i, inplace=True)\n",
    "            size += 1\n",
    "\n",
    "    test_df = pd.DataFrame(elems)\n",
    "    drop_columns = ['lat', 'lon', 'rssi_1_2', 'rssi_1_3', 'rssi_2_2','rssi_2_3','rssi_3_2','rssi_3_3', 'delay_1', 'delay_2', 'delay_3']\n",
    "    test_df.drop(columns=drop_columns, inplace=True)\n",
    "    test_df.to_csv(\"./database/LocTeste_Theoric.csv\", index=False)\n",
    "    #data.to_csv(\"./database/LocTreino.csv\", index=False)\n",
    "\n",
    "def euclidean_distance(a, b):\n",
    "    \"\"\"\n",
    "    Calcula a distância euclidiana entre dois pontos\n",
    "    \n",
    "    Parameters:\n",
    "    \n",
    "    a (Tuple)(List): Lista ou tupla com N elementos\n",
    "    b (Tuple)(List): Lista ou tupla com N elementos\n",
    "\n",
    "    Returns:\n",
    "    float: Distância euclidiana entre os pontos\n",
    "    \"\"\"\n",
    "    return distance.euclidean(a,b)\n",
    "\n",
    "def merge_on_pontoId(df_1, df_2):\n",
    "    \"\"\"\n",
    "    Faz um merge de dois DataFrame usando o pontoId como referência\n",
    "    \"\"\"\n",
    "    return pd.merge(df_1, df_2, how='inner', on=['pontoId'])"
   ]
  }
 ],
 "metadata": {
  "kernelspec": {
   "display_name": "Python 3",
   "language": "python",
   "name": "python3"
  },
  "language_info": {
   "codemirror_mode": {
    "name": "ipython",
    "version": 3
   },
   "file_extension": ".py",
   "mimetype": "text/x-python",
   "name": "python",
   "nbconvert_exporter": "python",
   "pygments_lexer": "ipython3",
   "version": "3.7.4"
  }
 },
 "nbformat": 4,
 "nbformat_minor": 2
}
