{
 "cells": [
  {
   "cell_type": "code",
   "execution_count": 7,
   "metadata": {},
   "outputs": [],
   "source": [
    "import pandas as pd\n",
    "import numpy as np\n",
    "import math\n",
    "import os\n",
    "from tqdm.notebook import tqdm\n",
    "from PyRadioLoc.Utils.GeoUtils import GeoUtils\n",
    "from PyRadioLoc.Pathloss.Models import Cost231HataModel\n",
    "from PyRadioLoc.Pathloss.Models import OkumuraHataModel"
   ]
  },
  {
   "cell_type": "code",
   "execution_count": 8,
   "metadata": {},
   "outputs": [],
   "source": [
    "data = pd.read_csv(\"./database/LocTreino_Equipe_4.csv\")"
   ]
  },
  {
   "cell_type": "markdown",
   "metadata": {},
   "source": [
    "# Gera grids 20x20, 30x30 e 40x40"
   ]
  },
  {
   "cell_type": "code",
   "execution_count": 9,
   "metadata": {},
   "outputs": [],
   "source": [
    "def generate_grids():\n",
    "    LAT_INI  = min(data['lat'])\n",
    "    LAT_FIN  = max(data['lat'])\n",
    "    LONG_INI = min(data['lon'])\n",
    "    LONG_FIN = max(data['lon'])\n",
    "    delta_x = max(GeoUtils.distanceInKm(LAT_INI, LONG_INI, LAT_INI, LONG_FIN),\n",
    "                  GeoUtils.distanceInKm(LAT_FIN, LONG_INI, LAT_FIN, LONG_FIN))\n",
    "    delta_y = max(GeoUtils.distanceInKm(LAT_INI, LONG_INI, LAT_FIN, LONG_INI),\n",
    "                  GeoUtils.distanceInKm(LAT_INI, LONG_FIN, LAT_FIN, LONG_FIN))\n",
    "    R = [5, 10, 20, 30, 40]               # dimensoes de cada célula m x m\n",
    "\n",
    "    # Para cada um das dimensoes de R calcula uma matriz de fingerprint e salva e um csv \n",
    "    for num in R:    \n",
    "        n_cells_x = math.ceil((delta_x * 1000) / num)\n",
    "        n_cells_y = math.ceil((delta_y * 1000) / num)\n",
    "\n",
    "        inc_lat = (LAT_FIN - LAT_INI) / n_cells_x\n",
    "        inc_lng = (LONG_FIN - LONG_INI) / n_cells_y\n",
    "\n",
    "        result = []\n",
    "\n",
    "        for i in range(n_cells_x):\n",
    "            for j in range(n_cells_y):\n",
    "                lat = LAT_INI + i * inc_lat\n",
    "                lng = LONG_INI + j * inc_lng\n",
    "                result.append((lat, lng))\n",
    "\n",
    "        # salva para o CSV\n",
    "        fingerprint_map = pd.DataFrame(result, columns=['lat', 'lon'])\n",
    "        fingerprint_map.to_csv(\"./grid/grid_{}.csv\".format(num), index=False)\n",
    "\n",
    "        print(n_cells_x, n_cells_y)"
   ]
  },
  {
   "cell_type": "markdown",
   "metadata": {},
   "source": [
    "# Aplica o modelo teorico de Cost231HataModel e gera os fingerprints"
   ]
  },
  {
   "cell_type": "code",
   "execution_count": 10,
   "metadata": {},
   "outputs": [],
   "source": [
    "FREQ_ERBS = 1800\n",
    "MODEL = Cost231HataModel(FREQ_ERBS)"
   ]
  },
  {
   "cell_type": "code",
   "execution_count": 13,
   "metadata": {},
   "outputs": [],
   "source": [
    "def calculate_erb_rssi(fingerprint, erb, model):\n",
    "    \"\"\"\n",
    "    Calcula todos os valores de rssi de uma erb para todos os pontos de um fingerprint\n",
    "    \"\"\"\n",
    "    rssi_list = []\n",
    "    eirp = erb['Eirp']\n",
    "    lat_erb = erb['lat']\n",
    "    lon_erb = erb['lon']\n",
    "    rssiId = erb['RssiId']\n",
    "\n",
    "    for n, point in fingerprint.iterrows():\n",
    "        lat = point['lat']\n",
    "        lon = point['lon']\n",
    "        \n",
    "        distance = GeoUtils.distanceInKm(lat_erb, lon_erb, lat, lon)\n",
    "        pathloss = model.pathloss(distance)\n",
    "        rssi = eirp - pathloss\n",
    "        rssi_list.append(rssi)\n",
    "    \n",
    "    return rssi_list\n",
    "\n",
    "def generate_grid(erbs, fingerprint):\n",
    "    \"\"\"\n",
    "    Gera um fingerprint e retorna como dataFrame\n",
    "    \"\"\"\n",
    "    rssi_dict = {}\n",
    "    for idx, erb in tqdm(erbs.iterrows()):\n",
    "        rssiId = erb['RssiId']\n",
    "        rssi_dict[rssiId] = calculate_erb_rssi(fingerprint, erb, MODEL)\n",
    "    grid = pd.DataFrame(rssi_dict)\n",
    "    return grid\n",
    "    \n",
    "def fingerprints_to_csv():\n",
    "    \"\"\"\n",
    "    Gera todos os fingerprints e salva em csv\n",
    "    \"\"\"\n",
    "    dims = [5, 10, 20, 30, 40]\n",
    "    erbs = pd.read_csv(\"./database/Bts(reduced).csv\")\n",
    "    for dim in tqdm(dims):\n",
    "        fingerprint = pd.read_csv(\"./grid/grid_{}.csv\".format(dim))\n",
    "        grid = generate_grid(erbs, fingerprint)\n",
    "        grid.insert(0, 'lat', fingerprint['lat'], True)\n",
    "        grid.insert(1, 'lon', fingerprint['lon'], True)\n",
    "        grid.to_csv(\"./fingerprint/fingerprint_{}.csv\".format(dim), index=False)"
   ]
  },
  {
   "cell_type": "code",
   "execution_count": 14,
   "metadata": {},
   "outputs": [
    {
     "data": {
      "application/vnd.jupyter.widget-view+json": {
       "model_id": "0d77f464380a417787e5c8c8dbeda6f1",
       "version_major": 2,
       "version_minor": 0
      },
      "text/plain": [
       "HBox(children=(IntProgress(value=0, max=5), HTML(value='')))"
      ]
     },
     "metadata": {},
     "output_type": "display_data"
    },
    {
     "data": {
      "application/vnd.jupyter.widget-view+json": {
       "model_id": "0b1c0d114f4e437cb905ce349310eea2",
       "version_major": 2,
       "version_minor": 0
      },
      "text/plain": [
       "HBox(children=(IntProgress(value=1, bar_style='info', max=1), HTML(value='')))"
      ]
     },
     "metadata": {},
     "output_type": "display_data"
    },
    {
     "name": "stdout",
     "output_type": "stream",
     "text": [
      "\n"
     ]
    },
    {
     "data": {
      "application/vnd.jupyter.widget-view+json": {
       "model_id": "be69d4d6dc6740bfbe2ea046c8b987fa",
       "version_major": 2,
       "version_minor": 0
      },
      "text/plain": [
       "HBox(children=(IntProgress(value=1, bar_style='info', max=1), HTML(value='')))"
      ]
     },
     "metadata": {},
     "output_type": "display_data"
    },
    {
     "name": "stdout",
     "output_type": "stream",
     "text": [
      "\n"
     ]
    },
    {
     "data": {
      "application/vnd.jupyter.widget-view+json": {
       "model_id": "a36908f853c948bea80b486ff994b6e3",
       "version_major": 2,
       "version_minor": 0
      },
      "text/plain": [
       "HBox(children=(IntProgress(value=1, bar_style='info', max=1), HTML(value='')))"
      ]
     },
     "metadata": {},
     "output_type": "display_data"
    },
    {
     "name": "stdout",
     "output_type": "stream",
     "text": [
      "\n"
     ]
    },
    {
     "data": {
      "application/vnd.jupyter.widget-view+json": {
       "model_id": "3b8692ff4f314aa8907cdc92e6d45d51",
       "version_major": 2,
       "version_minor": 0
      },
      "text/plain": [
       "HBox(children=(IntProgress(value=1, bar_style='info', max=1), HTML(value='')))"
      ]
     },
     "metadata": {},
     "output_type": "display_data"
    },
    {
     "name": "stdout",
     "output_type": "stream",
     "text": [
      "\n"
     ]
    },
    {
     "data": {
      "application/vnd.jupyter.widget-view+json": {
       "model_id": "7ae5580b9bdc45c8b7eff0deb35f16a9",
       "version_major": 2,
       "version_minor": 0
      },
      "text/plain": [
       "HBox(children=(IntProgress(value=1, bar_style='info', max=1), HTML(value='')))"
      ]
     },
     "metadata": {},
     "output_type": "display_data"
    },
    {
     "name": "stdout",
     "output_type": "stream",
     "text": [
      "\n",
      "\n"
     ]
    }
   ],
   "source": [
    "# gera os fingerprints que estão em dims\n",
    "fingerprints_to_csv()"
   ]
  },
  {
   "cell_type": "code",
   "execution_count": null,
   "metadata": {},
   "outputs": [],
   "source": []
  }
 ],
 "metadata": {
  "kernelspec": {
   "display_name": "Python 3",
   "language": "python",
   "name": "python3"
  },
  "language_info": {
   "codemirror_mode": {
    "name": "ipython",
    "version": 3
   },
   "file_extension": ".py",
   "mimetype": "text/x-python",
   "name": "python",
   "nbconvert_exporter": "python",
   "pygments_lexer": "ipython3",
   "version": "3.7.4"
  }
 },
 "nbformat": 4,
 "nbformat_minor": 2
}
