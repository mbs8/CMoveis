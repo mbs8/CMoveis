{
 "cells": [
  {
   "cell_type": "code",
   "execution_count": 123,
   "metadata": {},
   "outputs": [],
   "source": [
    "import pandas as pd\n",
    "import numpy as np\n",
    "import math\n",
    "import os\n",
    "\n",
    "from PyRadioLoc.Utils.GeoUtils import GeoUtils"
   ]
  },
  {
   "cell_type": "markdown",
   "metadata": {},
   "source": [
    "# Gera o mapa de fingerprints de 5x5, 10x10 e 20x20"
   ]
  },
  {
   "cell_type": "code",
   "execution_count": 118,
   "metadata": {},
   "outputs": [],
   "source": [
    "DATA_DIR = os.getcwd() + \"/database\"\n",
    "\n",
    "data = pd.read_csv(DATA_DIR + \"/LocTreino_Equipe_4.csv\")\n",
    "\n",
    "LAT_INI  = min(data['lat'])\n",
    "LAT_FIN  = max(data['lat'])\n",
    "LONG_INI = min(data['lon'])\n",
    "LONG_FIN = max(data['lon'])\n",
    "delta_x = max(GeoUtils.distanceInKm(LAT_INI, LONG_INI, LAT_INI, LONG_FIN),\n",
    "              GeoUtils.distanceInKm(LAT_FIN, LONG_INI, LAT_FIN, LONG_FIN))\n",
    "delta_y = max(GeoUtils.distanceInKm(LAT_INI, LONG_INI, LAT_FIN, LONG_INI),\n",
    "              GeoUtils.distanceInKm(LAT_INI, LONG_FIN, LAT_FIN, LONG_FIN))\n",
    "R = [5, 10, 20]               # dimensoes de cada célula"
   ]
  },
  {
   "cell_type": "code",
   "execution_count": 28,
   "metadata": {
    "scrolled": true
   },
   "outputs": [
    {
     "name": "stdout",
     "output_type": "stream",
     "text": [
      "325 291\n",
      "163 146\n",
      "82 73\n"
     ]
    }
   ],
   "source": [
    "# Para cada um das dimensoes de R calcula uma matriz de fingerprint e salva e um csv \n",
    "for num in R:    \n",
    "    n_cells_x = math.ceil((delta_x * 1000) / num)\n",
    "    n_cells_y = math.ceil((delta_y * 1000) / num)\n",
    "\n",
    "    inc_lat = (LAT_FIN - LAT_INI) / n_cells_x\n",
    "    inc_lng = (LONG_FIN - LONG_INI) / n_cells_y\n",
    "    \n",
    "    result = []\n",
    "\n",
    "    for i in range(n_cells_x):\n",
    "        for j in range(n_cells_y):\n",
    "            lat = LAT_INI + i * inc_lat\n",
    "            lng = LONG_INI + j * inc_lng\n",
    "            result.append((lat, lng))\n",
    "\n",
    "    # salva para o CSV\n",
    "    fingerprint_map = pd.DataFrame(result, columns=['lat', 'lon'])\n",
    "    fingerprint_map.to_csv(DATA_DIR + \"/fingerprint_{}.csv\".format(num), index=False)\n",
    "    \n",
    "    print(n_cells_x, n_cells_y)"
   ]
  }
 ],
 "metadata": {
  "kernelspec": {
   "display_name": "Python 3",
   "language": "python",
   "name": "python3"
  },
  "language_info": {
   "codemirror_mode": {
    "name": "ipython",
    "version": 3
   },
   "file_extension": ".py",
   "mimetype": "text/x-python",
   "name": "python",
   "nbconvert_exporter": "python",
   "pygments_lexer": "ipython3",
   "version": "3.7.4"
  }
 },
 "nbformat": 4,
 "nbformat_minor": 2
}
